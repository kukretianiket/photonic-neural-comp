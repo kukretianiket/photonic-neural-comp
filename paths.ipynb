{
 "cells": [
  {
   "cell_type": "code",
   "execution_count": null,
   "metadata": {},
   "outputs": [
    {
     "ename": "",
     "evalue": "",
     "output_type": "error",
     "traceback": [
      "\u001b[1;31mFailed to start the Kernel. \n",
      "\u001b[1;31mc:\\ProgramData\\Anaconda3\\envs\\ml-env2\\Lib\\site-packages\\traitlets\\traitlets.py:2544: FutureWarning: Supporting extra quotes around strings is deprecated in traitlets 5.0. You can use 'c:\\\\Users\\\\Aniket Kukreti\\\\AppData\\\\Roaming\\\\jupyter\\\\runtime\\\\kernel-v2-16520rbBOKP7IXzPb.json' instead of '\"c:\\\\Users\\\\Aniket Kukreti\\\\AppData\\\\Roaming\\\\jupyter\\\\runtime\\\\kernel-v2-16520rbBOKP7IXzPb.json\"' if you require traitlets >=5.\n",
      "\u001b[1;31m  warn(\n",
      "\u001b[1;31mAssertion failed: The paging file is too small for this operation to complete.\n",
      "\u001b[1;31m (C:\\b\\abs_4cyru7_wp3\\croot\\zeromq_1705601895956\\work\\src\\thread.cpp:57). \n",
      "\u001b[1;31mView Jupyter <a href='command:jupyter.viewOutput'>log</a> for further details."
     ]
    }
   ],
   "source": [
    "import numpy as np\n",
    "import matplotlib.pyplot as plt\n",
    "from collections import defaultdict, deque\n",
    "import pandas as pd"
   ]
  },
  {
   "cell_type": "code",
   "execution_count": null,
   "metadata": {},
   "outputs": [
    {
     "ename": "",
     "evalue": "",
     "output_type": "error",
     "traceback": [
      "\u001b[1;31mFailed to start the Kernel. \n",
      "\u001b[1;31mc:\\ProgramData\\Anaconda3\\envs\\ml-env2\\Lib\\site-packages\\traitlets\\traitlets.py:2544: FutureWarning: Supporting extra quotes around strings is deprecated in traitlets 5.0. You can use 'c:\\\\Users\\\\Aniket Kukreti\\\\AppData\\\\Roaming\\\\jupyter\\\\runtime\\\\kernel-v2-16520rbBOKP7IXzPb.json' instead of '\"c:\\\\Users\\\\Aniket Kukreti\\\\AppData\\\\Roaming\\\\jupyter\\\\runtime\\\\kernel-v2-16520rbBOKP7IXzPb.json\"' if you require traitlets >=5.\n",
      "\u001b[1;31m  warn(\n",
      "\u001b[1;31mAssertion failed: The paging file is too small for this operation to complete.\n",
      "\u001b[1;31m (C:\\b\\abs_4cyru7_wp3\\croot\\zeromq_1705601895956\\work\\src\\thread.cpp:57). \n",
      "\u001b[1;31mView Jupyter <a href='command:jupyter.viewOutput'>log</a> for further details."
     ]
    }
   ],
   "source": [
    "N = 6\n",
    "mesh = defaultdict(list)\n",
    "\n",
    "for i in range(1, 2*N, 4):\n",
    "    mesh[(i, 0)].append((i+1, 1))\n",
    "    mesh[(i+2, 0)].append((i+1, 1))\n",
    "\n",
    "for l in range(1, N):\n",
    "    if l % 2:\n",
    "        for i in range(2, 2*N+1, 4):\n",
    "            mesh[(i, l)].append((i-2, l+1))\n",
    "            mesh[(i, l)].append((i+2, l+1))\n",
    "    else:\n",
    "        mesh[(0, l)].append((2, l+1))\n",
    "        for i in range(4, 2*N-3, 4):\n",
    "            mesh[(i, l)].append((i-2, l+1))\n",
    "            mesh[(i, l)].append((i+2, l+1))\n",
    "        mesh[(12, l)].append((10, l+1))\n",
    "\n",
    "for i in range(1, 2*N, 4):\n",
    "    mesh[(i-1, N)].append((i, N+1))\n",
    "    mesh[(i+3, N)].append((i+2, N+1))\n",
    "\n",
    "plt.figure(figsize=(8, 10))\n",
    "plt.scatter(*zip(*list(mesh.keys())), c='red', s=90)\n",
    "plt.hlines(7, 0, 12)\n",
    "plt.hlines(0, 0, 12)\n",
    "plt.show()\n",
    "\n",
    "ip = [(i, 0) for i in range(1, 2*N, 2)]\n",
    "op = [(i, N+1) for i in range(1, 2*N, 2)]\n",
    "op_set = set(op)\n",
    "mat = np.array([[0 for j in range(N)] for i in range(N)])\n",
    "\n",
    "for inp in ip:\n",
    "    q = deque()\n",
    "    q.append(inp)\n",
    "\n",
    "    while q:\n",
    "        node = q.popleft()\n",
    "        if node in op_set:\n",
    "            mat[node[0] // 2][inp[0] // 2] += 1\n",
    "            continue\n",
    "        for nei in mesh[node]:\n",
    "            q.append(nei)\n",
    "mat"
   ]
  },
  {
   "cell_type": "code",
   "execution_count": 124,
   "metadata": {},
   "outputs": [],
   "source": [
    "mat_ = mat @ mat"
   ]
  },
  {
   "cell_type": "code",
   "execution_count": 125,
   "metadata": {},
   "outputs": [],
   "source": [
    "N = 6\n",
    "mesh = defaultdict(list)\n",
    "\n",
    "for i in range(1, 2*N, 4):\n",
    "    mesh[(i, 0)].append((i+1, 1))\n",
    "    mesh[(i+2, 0)].append((i+1, 1))\n",
    "\n",
    "for l in range(1, N):\n",
    "    if l % 2:\n",
    "        for i in range(2, 2*N+1, 4):\n",
    "            mesh[(i, l)].append((i-2, l+1))\n",
    "            mesh[(i, l)].append((i+2, l+1))\n",
    "    else:\n",
    "        mesh[(0, l)].append((2, l+1))\n",
    "        for i in range(4, 2*N-3, 4):\n",
    "            mesh[(i, l)].append((i-2, l+1))\n",
    "            mesh[(i, l)].append((i+2, l+1))\n",
    "        mesh[(12, l)].append((10, l+1))\n",
    "\n",
    "for i in range(1, 2*N, 4):\n",
    "    mesh[(i-1, N)].append((i, N+1))\n",
    "    mesh[(i+3, N)].append((i+2, N+1))\n",
    "\n",
    "for i in range(1, 2*N, 4):\n",
    "    mesh[(i, N+1)].append((i+1, N+2))\n",
    "    mesh[(i+2, N+1)].append((i+1, N+2))\n",
    "\n",
    "for l in range(N+2, 2*N+1):\n",
    "    if l % 2 == 0:\n",
    "        for i in range(2, 2*N+1, 4):\n",
    "            mesh[(i, l)].append((i-2, l+1))\n",
    "            mesh[(i, l)].append((i+2, l+1))\n",
    "    else:\n",
    "        mesh[(0, l)].append((2, l+1))\n",
    "        for i in range(4, 2*N-3, 4):\n",
    "            mesh[(i, l)].append((i-2, l+1))\n",
    "            mesh[(i, l)].append((i+2, l+1))\n",
    "        mesh[(12, l)].append((10, l+1))\n",
    "\n",
    "for i in range(1, 2*N, 4):\n",
    "    mesh[(i-1, 2*N+1)].append((i, 2*N+2))\n",
    "    mesh[(i+3, 2*N+1)].append((i+2, 2*N+2))"
   ]
  },
  {
   "cell_type": "code",
   "execution_count": 126,
   "metadata": {},
   "outputs": [
    {
     "data": {
      "text/plain": [
       "defaultdict(list,\n",
       "            {(1, 0): [(2, 1)],\n",
       "             (3, 0): [(2, 1)],\n",
       "             (5, 0): [(6, 1)],\n",
       "             (7, 0): [(6, 1)],\n",
       "             (9, 0): [(10, 1)],\n",
       "             (11, 0): [(10, 1)],\n",
       "             (2, 1): [(0, 2), (4, 2)],\n",
       "             (6, 1): [(4, 2), (8, 2)],\n",
       "             (10, 1): [(8, 2), (12, 2)],\n",
       "             (0, 2): [(2, 3)],\n",
       "             (4, 2): [(2, 3), (6, 3)],\n",
       "             (8, 2): [(6, 3), (10, 3)],\n",
       "             (12, 2): [(10, 3)],\n",
       "             (2, 3): [(0, 4), (4, 4)],\n",
       "             (6, 3): [(4, 4), (8, 4)],\n",
       "             (10, 3): [(8, 4), (12, 4)],\n",
       "             (0, 4): [(2, 5)],\n",
       "             (4, 4): [(2, 5), (6, 5)],\n",
       "             (8, 4): [(6, 5), (10, 5)],\n",
       "             (12, 4): [(10, 5)],\n",
       "             (2, 5): [(0, 6), (4, 6)],\n",
       "             (6, 5): [(4, 6), (8, 6)],\n",
       "             (10, 5): [(8, 6), (12, 6)],\n",
       "             (0, 6): [(1, 7)],\n",
       "             (4, 6): [(3, 7), (5, 7)],\n",
       "             (8, 6): [(7, 7), (9, 7)],\n",
       "             (12, 6): [(11, 7)],\n",
       "             (1, 7): [(2, 8)],\n",
       "             (3, 7): [(2, 8)],\n",
       "             (5, 7): [(6, 8)],\n",
       "             (7, 7): [(6, 8)],\n",
       "             (9, 7): [(10, 8)],\n",
       "             (11, 7): [(10, 8)],\n",
       "             (2, 8): [(0, 9), (4, 9)],\n",
       "             (6, 8): [(4, 9), (8, 9)],\n",
       "             (10, 8): [(8, 9), (12, 9)],\n",
       "             (0, 9): [(2, 10)],\n",
       "             (4, 9): [(2, 10), (6, 10)],\n",
       "             (8, 9): [(6, 10), (10, 10)],\n",
       "             (12, 9): [(10, 10)],\n",
       "             (2, 10): [(0, 11), (4, 11)],\n",
       "             (6, 10): [(4, 11), (8, 11)],\n",
       "             (10, 10): [(8, 11), (12, 11)],\n",
       "             (0, 11): [(2, 12)],\n",
       "             (4, 11): [(2, 12), (6, 12)],\n",
       "             (8, 11): [(6, 12), (10, 12)],\n",
       "             (12, 11): [(10, 12)],\n",
       "             (2, 12): [(0, 13), (4, 13)],\n",
       "             (6, 12): [(4, 13), (8, 13)],\n",
       "             (10, 12): [(8, 13), (12, 13)],\n",
       "             (0, 13): [(1, 14)],\n",
       "             (4, 13): [(3, 14), (5, 14)],\n",
       "             (8, 13): [(7, 14), (9, 14)],\n",
       "             (12, 13): [(11, 14)]})"
      ]
     },
     "execution_count": 126,
     "metadata": {},
     "output_type": "execute_result"
    }
   ],
   "source": [
    "mesh"
   ]
  },
  {
   "cell_type": "code",
   "execution_count": 127,
   "metadata": {},
   "outputs": [
    {
     "data": {
      "text/plain": [
       "<matplotlib.collections.LineCollection at 0x21c07a39c30>"
      ]
     },
     "execution_count": 127,
     "metadata": {},
     "output_type": "execute_result"
    },
    {
     "data": {
      "image/png": "[encoded data removed]",
      "text/plain": [
       "<Figure size 800x1000 with 1 Axes>"
      ]
     },
     "metadata": {},
     "output_type": "display_data"
    }
   ],
   "source": [
    "plt.figure(figsize=(8, 10))\n",
    "plt.scatter(*zip(*list(mesh.keys())), c='red', s=90)\n",
    "plt.hlines(7, 0, 12)\n",
    "plt.hlines(0, 0, 12)"
   ]
  },
  {
   "cell_type": "code",
   "execution_count": 119,
   "metadata": {},
   "outputs": [
    {
     "name": "stdout",
     "output_type": "stream",
     "text": [
      "[(1, 0), (3, 0), (5, 0), (7, 0), (9, 0), (11, 0)]\n",
      "[(1, 14), (3, 14), (5, 14), (7, 14), (9, 14), (11, 14)]\n",
      "{(3, 14), (5, 14), (1, 14), (9, 14), (11, 14), (7, 14)}\n"
     ]
    }
   ],
   "source": [
    "ip = [(i, 0) for i in range(1, 2*N, 2)]\n",
    "op = [(i, 2*N+2) for i in range(1, 2*N, 2)]\n",
    "op_set = set(op)\n",
    "print(ip)\n",
    "print(op)\n",
    "print(op_set)"
   ]
  },
  {
   "cell_type": "code",
   "execution_count": 128,
   "metadata": {},
   "outputs": [
    {
     "data": {
      "text/plain": [
       "array([[132, 132, 164, 164, 100, 100],\n",
       "       [296, 296, 396, 396, 264, 264],\n",
       "       [296, 296, 396, 396, 264, 264],\n",
       "       [264, 264, 396, 396, 296, 296],\n",
       "       [264, 264, 396, 396, 296, 296],\n",
       "       [100, 100, 164, 164, 132, 132]])"
      ]
     },
     "execution_count": 128,
     "metadata": {},
     "output_type": "execute_result"
    }
   ],
   "source": [
    "ip = [(i, 0) for i in range(1, 2*N, 2)]\n",
    "op = [(i, 2*N+2) for i in range(1, 2*N, 2)]\n",
    "op_set = set(op)\n",
    "mat = np.array([[0 for j in range(N)] for i in range(N)])\n",
    "\n",
    "for inp in ip:\n",
    "    q = deque()\n",
    "    q.append(inp)\n",
    "\n",
    "    while q:\n",
    "        node = q.popleft()\n",
    "        if node in op_set:\n",
    "            mat[node[0] // 2][inp[0] // 2] += 1\n",
    "            continue\n",
    "        for nei in mesh[node]:\n",
    "            q.append(nei)\n",
    "mat"
   ]
  },
  {
   "cell_type": "code",
   "execution_count": 130,
   "metadata": {},
   "outputs": [
    {
     "data": {
      "text/plain": [
       "True"
      ]
     },
     "execution_count": 130,
     "metadata": {},
     "output_type": "execute_result"
    }
   ],
   "source": [
    "np.all(mat == mat_)"
   ]
  },
  {
   "cell_type": "code",
   "execution_count": 112,
   "metadata": {},
   "outputs": [
    {
     "data": {
      "text/plain": [
       "<matplotlib.colorbar.Colorbar at 0x21c08fb21a0>"
      ]
     },
     "execution_count": 112,
     "metadata": {},
     "output_type": "execute_result"
    },
    {
     "data": {
      "image/png": "[encoded data removed]",
      "text/plain": [
       "<Figure size 1500x600 with 2 Axes>"
      ]
     },
     "metadata": {},
     "output_type": "display_data"
    }
   ],
   "source": [
    "plt.figure(figsize=(15, 6))\n",
    "plt.imshow(mat, cmap='hot', interpolation='nearest')\n",
    "plt.colorbar()"
   ]
  },
  {
   "cell_type": "code",
   "execution_count": 145,
   "metadata": {},
   "outputs": [
    {
     "data": {
      "text/plain": [
       "array([[132, 132, 164, 164, 100, 100, 132, 164, 100,  42,  90,  74,  26,\n",
       "         42,  48,  26,  14,  28,  20,   6,  14,  14,   6,   5,   9,   5,\n",
       "          1,   5,   5,   4,   4,   1,   1,   5,   4,   1,   2,   3,   1,\n",
       "          0,   2,   1,   0,   1,   1,   0,   0,   1,   0,   0,   1,   0,\n",
       "          0,   0],\n",
       "       [296, 296, 396, 396, 264, 264, 296, 396, 264,  90, 206, 190,  74,\n",
       "         90, 116,  74,  28,  62,  54,  20,  28,  34,  20,   9,  19,  15,\n",
       "          5,   9,   9,  10,  10,   5,   5,   9,  10,   5,   3,   6,   4,\n",
       "          1,   3,   3,   1,   1,   2,   1,   0,   1,   1,   0,   0,   1,\n",
       "          0,   0],\n",
       "       [296, 296, 396, 396, 264, 264, 296, 396, 264,  90, 206, 190,  74,\n",
       "         90, 116,  74,  28,  62,  54,  20,  28,  34,  20,   9,  19,  15,\n",
       "          5,   9,   9,  10,  10,   5,   5,   9,  10,   5,   3,   6,   4,\n",
       "          1,   3,   3,   1,   1,   2,   1,   0,   1,   1,   0,   0,   1,\n",
       "          0,   0],\n",
       "       [264, 264, 396, 396, 296, 296, 264, 396, 296,  74, 190, 206,  90,\n",
       "         74, 116,  90,  20,  54,  62,  28,  20,  34,  28,   5,  15,  19,\n",
       "          9,   5,   5,  10,  10,   9,   9,   5,  10,   9,   1,   4,   6,\n",
       "          3,   1,   3,   3,   0,   1,   2,   1,   0,   1,   1,   0,   0,\n",
       "          1,   0],\n",
       "       [264, 264, 396, 396, 296, 296, 264, 396, 296,  74, 190, 206,  90,\n",
       "         74, 116,  90,  20,  54,  62,  28,  20,  34,  28,   5,  15,  19,\n",
       "          9,   5,   5,  10,  10,   9,   9,   5,  10,   9,   1,   4,   6,\n",
       "          3,   1,   3,   3,   0,   1,   2,   1,   0,   1,   1,   0,   0,\n",
       "          1,   0],\n",
       "       [100, 100, 164, 164, 132, 132, 100, 164, 132,  26,  74,  90,  42,\n",
       "         26,  48,  42,   6,  20,  28,  14,   6,  14,  14,   1,   5,   9,\n",
       "          5,   1,   1,   4,   4,   5,   5,   1,   4,   5,   0,   1,   3,\n",
       "          2,   0,   1,   2,   0,   0,   1,   1,   0,   0,   1,   0,   0,\n",
       "          0,   1]])"
      ]
     },
     "execution_count": 145,
     "metadata": {},
     "output_type": "execute_result"
    }
   ],
   "source": [
    "ip = [(i, 0) for i in range(1, 2*N, 2)]\n",
    "op = [(i, 2*N+2) for i in range(1, 2*N, 2)]\n",
    "op_set = set(op)\n",
    "mat = np.array([[0 for j in range(N*(N+3))] for i in range(N)])\n",
    "map_idx = {}\n",
    "for i, node in enumerate(mesh.keys()):\n",
    "    map_idx[node] = i\n",
    "\n",
    "for inp in mesh.keys():\n",
    "    q = deque()\n",
    "    q.append(inp)\n",
    "\n",
    "    while q:\n",
    "        node = q.popleft()\n",
    "        if node in op_set:\n",
    "            mat[node[0] // 2][map_idx[inp]] += 1\n",
    "            continue\n",
    "        for nei in mesh[node]:\n",
    "            q.append(nei)\n",
    "mat"
   ]
  },
  {
   "cell_type": "code",
   "execution_count": 146,
   "metadata": {},
   "outputs": [
    {
     "data": {
      "text/plain": [
       "array([[132, 132, 164, 164, 100, 100],\n",
       "       [296, 296, 396, 396, 264, 264],\n",
       "       [296, 296, 396, 396, 264, 264],\n",
       "       [264, 264, 396, 396, 296, 296],\n",
       "       [264, 264, 396, 396, 296, 296],\n",
       "       [100, 100, 164, 164, 132, 132]])"
      ]
     },
     "execution_count": 146,
     "metadata": {},
     "output_type": "execute_result"
    }
   ],
   "source": [
    "mat[:, :6]"
   ]
  },
  {
   "cell_type": "code",
   "execution_count": 134,
   "metadata": {},
   "outputs": [
    {
     "data": {
      "text/plain": [
       "array([[132, 132, 164, 164, 100, 100],\n",
       "       [296, 296, 396, 396, 264, 264],\n",
       "       [296, 296, 396, 396, 264, 264],\n",
       "       [264, 264, 396, 396, 296, 296],\n",
       "       [264, 264, 396, 396, 296, 296],\n",
       "       [100, 100, 164, 164, 132, 132]])"
      ]
     },
     "execution_count": 134,
     "metadata": {},
     "output_type": "execute_result"
    }
   ],
   "source": [
    "mat_"
   ]
  },
  {
   "cell_type": "code",
   "execution_count": 181,
   "metadata": {},
   "outputs": [],
   "source": [
    "import copy\n",
    "from matplotlib.cm import get_cmap\n",
    "from matplotlib.colors import SymLogNorm"
   ]
  },
  {
   "cell_type": "code",
   "execution_count": 190,
   "metadata": {},
   "outputs": [
    {
     "data": {
      "text/plain": [
       "<matplotlib.colorbar.Colorbar at 0x21c1a2dcee0>"
      ]
     },
     "execution_count": 190,
     "metadata": {},
     "output_type": "execute_result"
    },
    {
     "data": {
      "image/png": "[encoded data removed]",
      "text/plain": [
       "<Figure size 2000x1200 with 2 Axes>"
      ]
     },
     "metadata": {},
     "output_type": "display_data"
    }
   ],
   "source": [
    "fig, ax = plt.subplots(figsize=(20, 12))\n",
    "im = ax.imshow(mat, cmap='hot', norm=SymLogNorm(linthresh=10))\n",
    "ax.set_xticks([0, 5, 8, 12, 15, 19, 22, 26, 32, 35, 39, 42, 46, 49, 53])\n",
    "cax = fig.add_axes([ax.get_position().x1+0.01,ax.get_position().y0,0.02,ax.get_position().height])\n",
    "plt.colorbar(im, cax=cax)"
   ]
  },
  {
   "cell_type": "code",
   "execution_count": 156,
   "metadata": {},
   "outputs": [],
   "source": [
    "df = pd.DataFrame(mat, index=['PD1', 'PD2', 'PD3', 'PD4', 'PD5', 'PD6'], columns=[f'C{i}' for i in range(1, 55)])"
   ]
  },
  {
   "cell_type": "code",
   "execution_count": 158,
   "metadata": {},
   "outputs": [],
   "source": [
    "df.to_csv('transfer_matrix.csv')"
   ]
  },
  {
   "cell_type": "code",
   "execution_count": null,
   "metadata": {},
   "outputs": [],
   "source": []
  }
 ],
 "metadata": {
  "kernelspec": {
   "display_name": "neurophoxgpu",
   "language": "python",
   "name": "python3"
  },
  "language_info": {
   "codemirror_mode": {
    "name": "ipython",
    "version": 3
   },
   "file_extension": ".py",
   "mimetype": "text/x-python",
   "name": "python",
   "nbconvert_exporter": "python",
   "pygments_lexer": "ipython3",
   "version": "3.12.2"
  }
 },
 "nbformat": 4,
 "nbformat_minor": 2
}
