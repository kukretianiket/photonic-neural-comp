{
 "cells": [
  {
   "cell_type": "code",
   "execution_count": 1,
   "metadata": {},
   "outputs": [],
   "source": [
    "# General imports\n",
    "import numpy as np\n",
    "import scipy as sp\n",
    "import matplotlib.pyplot as plt\n",
    "\n",
    "import tensorflow as tf\n",
    "# from sklearn.preprocessing import normalize\n",
    "\n",
    "# Neurophox imports\n",
    "from neurophox.numpy import *\n",
    "from neurophox.tensorflow import *\n",
    "from neurophox.ml.nonlinearities import cnorm, cnormsq\n",
    "from neurophox.initializers import *\n",
    "from neurophox.components import *\n",
    "from neurophox.helpers import *"
   ]
  },
  {
   "cell_type": "code",
   "execution_count": 2,
   "metadata": {},
   "outputs": [],
   "source": [
    "class PhaseInitializer(MeshPhaseInitializer):\n",
    "    \"\"\"\n",
    "    User-specified initialization of rectangular and triangular mesh architectures.\n",
    "\n",
    "    Args:\n",
    "        phase: Phase to initialize\n",
    "        units: Input dimension, :math:`N`\n",
    "    \"\"\"\n",
    "\n",
    "    def __init__(self, phase: np.ndarray, units: int):\n",
    "        self.phase, self.units = phase, units\n",
    "        super(PhaseInitializer, self).__init__(units, self.phase.shape[0])\n",
    "\n",
    "    def to_np(self) -> np.ndarray:\n",
    "        return self.phase.astype(NP_FLOAT)"
   ]
  },
  {
   "cell_type": "markdown",
   "metadata": {},
   "source": [
    "## Investigating Neurophox"
   ]
  },
  {
   "cell_type": "markdown",
   "metadata": {},
   "source": [
    "Basic unit simulation\n",
    "$$ U_2(\\theta, \\phi) = B \\cdot R(\\theta) \\cdot B \\cdot R(\\phi) = i \\begin{bmatrix} e^{i \\phi}\\sin \\frac{\\theta}{2} & \\cos \\frac{\\theta}{2} \\\\\\\\\n",
    "        e^{i \\phi}\\cos \\frac{\\theta}{2} & -\\sin \\frac{\\theta}{2} \\end{bmatrix} $$\n",
    "![Alt text](image.png)"
   ]
  },
  {
   "cell_type": "code",
   "execution_count": 3,
   "metadata": {},
   "outputs": [
    {
     "data": {
      "text/plain": [
       "array([[0.+0.j, 0.+1.j],\n",
       "       [0.+1.j, 0.+0.j]])"
      ]
     },
     "execution_count": 3,
     "metadata": {},
     "output_type": "execute_result"
    }
   ],
   "source": [
    "mzi.BlochMZI(0, 0, False).matrix"
   ]
  },
  {
   "cell_type": "code",
   "execution_count": 27,
   "metadata": {},
   "outputs": [
    {
     "data": {
      "text/plain": [
       "neurophox.numpy.layers.RMNumpy"
      ]
     },
     "execution_count": 27,
     "metadata": {},
     "output_type": "execute_result"
    }
   ],
   "source": [
    "input = 4\n",
    "depth = 5\n",
    "layer = RMNumpy(input, depth)\n",
    "type(layer)"
   ]
  },
  {
   "cell_type": "markdown",
   "metadata": {},
   "source": [
    "Phases are stored in arrays of size `(depth, input // 2)`\n",
    "\n",
    "We need to store half the input amount of phases as each MZI has 2 input ports and is characterised by a single pair of $(\\theta, \\phi)$."
   ]
  },
  {
   "cell_type": "code",
   "execution_count": 28,
   "metadata": {},
   "outputs": [
    {
     "data": {
      "text/plain": [
       "array([[0.5808689 , 0.40803068, 0.93953515, 1.87063208, 1.46720983],\n",
       "       [2.65388288, 0.        , 0.15391314, 0.        , 2.12988061]])"
      ]
     },
     "execution_count": 28,
     "metadata": {},
     "output_type": "execute_result"
    }
   ],
   "source": [
    "layer.theta.T"
   ]
  },
  {
   "cell_type": "code",
   "execution_count": 29,
   "metadata": {},
   "outputs": [
    {
     "data": {
      "text/plain": [
       "array([[4.68224897, 5.92223638, 0.62535491, 1.3717976 , 4.87874205],\n",
       "       [1.02387983, 3.66936286, 0.92077258, 4.268002  , 2.62449535]])"
      ]
     },
     "execution_count": 29,
     "metadata": {},
     "output_type": "execute_result"
    }
   ],
   "source": [
    "layer.phi.T"
   ]
  },
  {
   "cell_type": "code",
   "execution_count": 32,
   "metadata": {},
   "outputs": [
    {
     "data": {
      "text/plain": [
       "array([[1.1082804 ],\n",
       "       [1.9430582 ],\n",
       "       [5.02199356],\n",
       "       [5.39584577]])"
      ]
     },
     "execution_count": 32,
     "metadata": {},
     "output_type": "execute_result"
    }
   ],
   "source": [
    "layer.gamma.T"
   ]
  },
  {
   "cell_type": "code",
   "execution_count": 30,
   "metadata": {},
   "outputs": [
    {
     "data": {
      "text/plain": [
       "array([[ 0.29043445,  0.20401534,  0.46976758,  0.93531604,  0.73360492],\n",
       "       [-0.29043445, -0.20401534, -0.46976758, -0.93531604, -0.73360492],\n",
       "       [ 1.32694144,  1.57079633,  0.07695657,  1.57079633,  1.06494031],\n",
       "       [-1.32694144, -1.57079633, -0.07695657, -1.57079633, -1.06494031]])"
      ]
     },
     "execution_count": 30,
     "metadata": {},
     "output_type": "execute_result"
    }
   ],
   "source": [
    "layer.phases.internal_phase_shifts"
   ]
  },
  {
   "cell_type": "code",
   "execution_count": 166,
   "metadata": {},
   "outputs": [
    {
     "data": {
      "text/plain": [
       "array([[1.42866214, 1.93940082],\n",
       "       [0.95208025, 0.        ],\n",
       "       [1.34039713, 2.38866947],\n",
       "       [1.21625939, 0.        ],\n",
       "       [1.89075928, 1.92725722]])"
      ]
     },
     "execution_count": 166,
     "metadata": {},
     "output_type": "execute_result"
    }
   ],
   "source": [
    "HaarRandomPhaseInitializer(4, 5).to_np()"
   ]
  },
  {
   "cell_type": "code",
   "execution_count": 154,
   "metadata": {},
   "outputs": [],
   "source": [
    "units = 7\n",
    "a = ConstantPhaseInitializer(units, units, np.pi/4).to_np() # \n",
    "b = ConstantPhaseInitializer(2*units, 1, 0).to_np()"
   ]
  },
  {
   "cell_type": "code",
   "execution_count": 167,
   "metadata": {},
   "outputs": [
    {
     "data": {
      "text/plain": [
       "array([[ 0.39269908,  0.39269908,  0.39269908,  0.39269908,  0.39269908,\n",
       "         0.39269908,  0.39269908],\n",
       "       [-0.39269908, -0.39269908, -0.39269908, -0.39269908, -0.39269908,\n",
       "        -0.39269908, -0.39269908],\n",
       "       [ 0.39269908,  0.39269908,  0.39269908,  0.39269908,  0.39269908,\n",
       "         0.39269908,  0.39269908],\n",
       "       [-0.39269908, -0.39269908, -0.39269908, -0.39269908, -0.39269908,\n",
       "        -0.39269908, -0.39269908],\n",
       "       [ 0.39269908,  0.39269908,  0.39269908,  0.39269908,  0.39269908,\n",
       "         0.39269908,  0.39269908],\n",
       "       [-0.39269908, -0.39269908, -0.39269908, -0.39269908, -0.39269908,\n",
       "        -0.39269908, -0.39269908],\n",
       "       [ 0.        ,  0.        ,  0.        ,  0.        ,  0.        ,\n",
       "         0.        ,  0.        ]])"
      ]
     },
     "execution_count": 167,
     "metadata": {},
     "output_type": "execute_result"
    }
   ],
   "source": [
    "MeshPhases(a, a, b).internal_phase_shifts"
   ]
  },
  {
   "cell_type": "code",
   "execution_count": 33,
   "metadata": {},
   "outputs": [],
   "source": [
    "nplayer = RMNumpy(21, theta_init_name=\"random_theta\")"
   ]
  },
  {
   "cell_type": "code",
   "execution_count": 34,
   "metadata": {},
   "outputs": [],
   "source": [
    "inp = np.eye(21)[10]"
   ]
  },
  {
   "cell_type": "code",
   "execution_count": 35,
   "metadata": {},
   "outputs": [
    {
     "data": {
      "text/plain": [
       "array([[0.00000000e+00, 0.00000000e+00, 0.00000000e+00, 0.00000000e+00,\n",
       "        0.00000000e+00, 0.00000000e+00, 0.00000000e+00, 0.00000000e+00,\n",
       "        0.00000000e+00, 0.00000000e+00, 1.00000000e+00, 0.00000000e+00,\n",
       "        0.00000000e+00, 0.00000000e+00, 0.00000000e+00, 0.00000000e+00,\n",
       "        0.00000000e+00, 0.00000000e+00, 0.00000000e+00, 0.00000000e+00,\n",
       "        0.00000000e+00],\n",
       "       [0.00000000e+00, 0.00000000e+00, 0.00000000e+00, 0.00000000e+00,\n",
       "        0.00000000e+00, 0.00000000e+00, 0.00000000e+00, 0.00000000e+00,\n",
       "        0.00000000e+00, 0.00000000e+00, 9.85472787e-01, 1.69833408e-01,\n",
       "        0.00000000e+00, 0.00000000e+00, 0.00000000e+00, 0.00000000e+00,\n",
       "        0.00000000e+00, 0.00000000e+00, 0.00000000e+00, 0.00000000e+00,\n",
       "        0.00000000e+00],\n",
       "       [0.00000000e+00, 0.00000000e+00, 0.00000000e+00, 0.00000000e+00,\n",
       "        0.00000000e+00, 0.00000000e+00, 0.00000000e+00, 0.00000000e+00,\n",
       "        0.00000000e+00, 9.67101857e-01, 1.89395384e-01, 6.77048837e-02,\n",
       "        1.55754406e-01, 0.00000000e+00, 0.00000000e+00, 0.00000000e+00,\n",
       "        0.00000000e+00, 0.00000000e+00, 0.00000000e+00, 0.00000000e+00,\n",
       "        0.00000000e+00],\n",
       "       [0.00000000e+00, 0.00000000e+00, 0.00000000e+00, 0.00000000e+00,\n",
       "        0.00000000e+00, 0.00000000e+00, 0.00000000e+00, 0.00000000e+00,\n",
       "        3.66759694e-01, 8.94859391e-01, 1.77384831e-01, 9.48113100e-02,\n",
       "        8.29975258e-02, 1.31798505e-01, 0.00000000e+00, 0.00000000e+00,\n",
       "        0.00000000e+00, 0.00000000e+00, 0.00000000e+00, 0.00000000e+00,\n",
       "        0.00000000e+00],\n",
       "       [0.00000000e+00, 0.00000000e+00, 0.00000000e+00, 0.00000000e+00,\n",
       "        0.00000000e+00, 0.00000000e+00, 0.00000000e+00, 3.45231731e-01,\n",
       "        1.23805190e-01, 2.67032248e-01, 8.72314442e-01, 9.30487479e-02,\n",
       "        8.49688431e-02, 5.46754634e-02, 1.19922640e-01, 0.00000000e+00,\n",
       "        0.00000000e+00, 0.00000000e+00, 0.00000000e+00, 0.00000000e+00,\n",
       "        0.00000000e+00],\n",
       "       [0.00000000e+00, 0.00000000e+00, 0.00000000e+00, 0.00000000e+00,\n",
       "        0.00000000e+00, 0.00000000e+00, 1.18120999e-01, 3.24395403e-01,\n",
       "        2.70184185e-01, 1.16766659e-01, 1.32082755e-01, 8.67262764e-01,\n",
       "        4.56813336e-02, 9.01239499e-02, 1.17975580e-01, 2.15221283e-02,\n",
       "        0.00000000e+00, 0.00000000e+00, 0.00000000e+00, 0.00000000e+00,\n",
       "        0.00000000e+00],\n",
       "       [0.00000000e+00, 0.00000000e+00, 0.00000000e+00, 0.00000000e+00,\n",
       "        0.00000000e+00, 4.81254582e-02, 1.07872660e-01, 3.56558418e-01,\n",
       "        2.26048591e-01, 1.47166917e-01, 9.70680461e-02, 8.56185886e-01,\n",
       "        1.45523931e-01, 1.26453013e-01, 7.77830272e-02, 2.14608185e-02,\n",
       "        1.62335369e-03, 0.00000000e+00, 0.00000000e+00, 0.00000000e+00,\n",
       "        0.00000000e+00],\n",
       "       [0.00000000e+00, 0.00000000e+00, 0.00000000e+00, 0.00000000e+00,\n",
       "        4.52932152e-02, 1.62660500e-02, 2.97168857e-01, 2.24635453e-01,\n",
       "        1.41389743e-01, 2.29706351e-01, 5.14403824e-01, 6.91277934e-01,\n",
       "        1.53260838e-01, 1.16955951e-01, 2.72457918e-02, 7.59502000e-02,\n",
       "        7.39828277e-04, 1.44496759e-03, 0.00000000e+00, 0.00000000e+00,\n",
       "        0.00000000e+00],\n",
       "       [0.00000000e+00, 0.00000000e+00, 0.00000000e+00, 1.67693205e-02,\n",
       "        4.20745200e-02, 2.85621421e-01, 8.36320359e-02, 1.47968476e-01,\n",
       "        2.20357610e-01, 5.13146966e-01, 2.32500522e-01, 1.40919338e-01,\n",
       "        6.93898989e-01, 8.37381682e-02, 8.60752400e-02, 6.98352149e-04,\n",
       "        7.59505927e-02, 1.20779256e-03, 7.93201404e-04, 0.00000000e+00,\n",
       "        0.00000000e+00],\n",
       "       [0.00000000e+00, 0.00000000e+00, 1.25061056e-02, 1.11717247e-02,\n",
       "        3.10918719e-02, 2.87024663e-01, 1.52071224e-01, 7.59165995e-02,\n",
       "        3.36148870e-01, 4.45961010e-01, 2.48473743e-01, 1.10342883e-01,\n",
       "        6.50436251e-01, 2.55813549e-01, 6.83114029e-03, 8.58065858e-02,\n",
       "        6.51171572e-02, 3.91114707e-02, 3.60236177e-04, 7.06681232e-04,\n",
       "        0.00000000e+00],\n",
       "       [0.00000000e+00, 1.21162851e-02, 3.09811449e-03, 2.66523129e-02,\n",
       "        1.95234769e-02, 1.52009764e-01, 2.87057218e-01, 3.95630257e-02,\n",
       "        3.42336325e-01, 4.64240470e-01, 2.12370453e-01, 6.05246192e-01,\n",
       "        2.62526029e-01, 1.14235564e-01, 2.28992297e-01, 8.33297645e-02,\n",
       "        6.82580740e-02, 3.52358285e-02, 1.69786129e-02, 6.60449425e-04,\n",
       "        2.51405887e-04],\n",
       "       [8.01002090e-03, 9.09087068e-03, 2.67788569e-02, 1.68431451e-03,\n",
       "        1.09052619e-01, 1.07683149e-01, 1.05975755e-01, 2.69696530e-01,\n",
       "        4.26774348e-01, 3.88042562e-01, 3.49833542e-01, 5.37625013e-01,\n",
       "        2.44545294e-01, 1.48886799e-01, 2.32283768e-01, 7.36584878e-02,\n",
       "        4.99901319e-02, 5.83242231e-02, 5.35545096e-03, 1.61254034e-02,\n",
       "        2.51405887e-04],\n",
       "       [8.01002090e-03, 7.83160503e-03, 2.71738306e-02, 8.86999285e-02,\n",
       "        6.34636380e-02, 3.83853840e-02, 1.46126944e-01, 2.87126100e-01,\n",
       "        4.15248318e-01, 3.68579507e-01, 3.70283248e-01, 4.06986113e-01,\n",
       "        4.28024952e-01, 1.76249271e-01, 2.12271576e-01, 3.84156875e-02,\n",
       "        8.03045519e-02, 3.91873961e-02, 4.35286555e-02, 6.63386915e-03,\n",
       "        1.46997830e-02],\n",
       "       [1.08334307e-02, 2.85153495e-03, 8.71277934e-02, 3.18565850e-02,\n",
       "        6.88709481e-02, 2.75293218e-02, 2.75293647e-01, 1.67355576e-01,\n",
       "        5.06961376e-01, 2.26433613e-01, 4.79086460e-01, 2.70598492e-01,\n",
       "        1.36951141e-01, 4.42169142e-01, 6.11352975e-02, 2.06875476e-01,\n",
       "        4.02509534e-02, 7.97767749e-02, 3.62802663e-02, 2.49498365e-02,\n",
       "        1.46997830e-02],\n",
       "       [1.08334307e-02, 6.00685774e-02, 6.31755462e-02, 1.79791192e-02,\n",
       "        7.37211012e-02, 1.45052235e-01, 2.35593516e-01, 4.64885093e-01,\n",
       "        2.62487287e-01, 4.75412754e-01, 2.34048564e-01, 2.79307615e-01,\n",
       "        1.18179586e-01, 4.31672685e-01, 1.13621159e-01, 1.89659873e-01,\n",
       "        9.19061176e-02, 7.40455940e-02, 4.68811427e-02, 2.68486521e-02,\n",
       "        1.08502462e-02],\n",
       "       [5.90211360e-02, 1.55596500e-02, 4.44379370e-02, 4.83701160e-02,\n",
       "        1.26900063e-01, 1.01839706e-01, 4.68490178e-01, 2.28340551e-01,\n",
       "        3.95119051e-01, 3.72555766e-01, 2.38158269e-01, 2.75811735e-01,\n",
       "        3.86107838e-01, 2.26337047e-01, 2.13812209e-01, 5.62581063e-02,\n",
       "        8.96127715e-02, 7.68051797e-02, 4.81597596e-02, 2.44812013e-02,\n",
       "        1.08502462e-02],\n",
       "       [5.90211360e-02, 4.47210400e-02, 1.47262194e-02, 3.59596871e-02,\n",
       "        1.30958754e-01, 3.44940541e-01, 3.32972064e-01, 2.24765288e-01,\n",
       "        3.97163740e-01, 3.30859484e-01, 2.93341375e-01, 4.47922928e-01,\n",
       "        1.56577221e-01, 1.81725167e-01, 2.52824214e-01, 8.08241879e-02,\n",
       "        6.82852399e-02, 4.81230128e-02, 7.68282091e-02, 1.45894894e-02,\n",
       "        2.24544842e-02],\n",
       "       [6.13085843e-02, 4.15297894e-02, 1.54705023e-02, 3.56458159e-02,\n",
       "        3.28431381e-03, 3.68949028e-01, 2.06566864e-01, 3.44557631e-01,\n",
       "        2.97377221e-01, 4.22816536e-01, 4.38736386e-01, 3.06911218e-01,\n",
       "        2.33830003e-01, 5.35162788e-02, 2.40106265e-01, 1.13144218e-01,\n",
       "        6.43162636e-02, 5.33115052e-02, 2.06348613e-02, 7.54296322e-02,\n",
       "        2.24544842e-02],\n",
       "       [6.13085843e-02, 1.54692315e-02, 4.15302628e-02, 1.64033134e-02,\n",
       "        3.18173257e-02, 1.40270697e-01, 3.98895207e-01, 2.60856244e-01,\n",
       "        3.72970767e-01, 5.03770280e-01, 3.42752015e-01, 3.69588167e-01,\n",
       "        1.10795093e-01, 1.23753736e-01, 2.12602971e-01, 8.18864056e-02,\n",
       "        1.01157365e-01, 2.03380023e-02, 5.34254597e-02, 6.99241281e-02,\n",
       "        3.61171646e-02],\n",
       "       [5.04790178e-02, 3.80776626e-02, 4.16646946e-02, 1.60587869e-02,\n",
       "        7.47660304e-02, 1.22874942e-01, 1.89345682e-01, 4.37391791e-01,\n",
       "        5.57206548e-01, 2.87075863e-01, 6.24869982e-02, 5.00169703e-01,\n",
       "        1.29411340e-01, 1.04130903e-01, 1.58436437e-01, 1.63717141e-01,\n",
       "        3.57435047e-02, 9.67928132e-02, 6.81411978e-02, 5.56816003e-02,\n",
       "        3.61171646e-02],\n",
       "       [5.04790178e-02, 3.41807215e-02, 4.49169617e-02, 7.17035783e-02,\n",
       "        2.65789542e-02, 2.06951385e-01, 9.01174954e-02, 4.90285919e-01,\n",
       "        5.11283125e-01, 1.22147528e-01, 2.67202465e-01, 2.92866978e-01,\n",
       "        4.25612453e-01, 9.34243157e-02, 1.64976504e-01, 1.64503449e-01,\n",
       "        3.19298527e-02, 5.16977679e-02, 1.06486677e-01, 5.81096611e-02,\n",
       "        3.20648947e-02],\n",
       "       [4.94044649e-02, 3.57162682e-02, 5.84333518e-02, 6.11921562e-02,\n",
       "        1.93342004e-01, 7.84486202e-02, 4.02743445e-02, 4.96869624e-01,\n",
       "        4.69837789e-01, 2.35760269e-01, 2.31553763e-01, 3.21793535e-01,\n",
       "        3.22389236e-01, 2.93153958e-01, 1.76183410e-01, 1.52440276e-01,\n",
       "        4.68454606e-02, 3.86998387e-02, 9.08277135e-02, 8.04143737e-02,\n",
       "        3.20648947e-02]])"
      ]
     },
     "execution_count": 35,
     "metadata": {},
     "output_type": "execute_result"
    }
   ],
   "source": [
    "abs(nplayer.propagate(inp)).squeeze()"
   ]
  },
  {
   "cell_type": "code",
   "execution_count": 36,
   "metadata": {},
   "outputs": [
    {
     "data": {
      "text/plain": [
       "Text(0.5, 1.0, 'Propagation for Haar random $\\\\theta_{n\\\\ell}$')"
      ]
     },
     "execution_count": 36,
     "metadata": {},
     "output_type": "execute_result"
    },
    {
     "data": {
      "image/png": "[encoded data removed]",
      "text/plain": [
       "<Figure size 2000x1000 with 1 Axes>"
      ]
     },
     "metadata": {},
     "output_type": "display_data"
    }
   ],
   "source": [
    "plt.figure(dpi=200, figsize=(10, 5))\n",
    "plt.imshow(abs(nplayer.propagate(inp)).squeeze().T, cmap='hot')\n",
    "plt.ylabel(\"Index ($n$)\")\n",
    "plt.xlabel(\"Layer ($\\ell$)\")\n",
    "plt.title('Propagation for Haar random $\\\\theta_{n\\ell}$')"
   ]
  },
  {
   "cell_type": "markdown",
   "metadata": {},
   "source": [
    "## Effect of phase on inference"
   ]
  },
  {
   "cell_type": "code",
   "execution_count": null,
   "metadata": {},
   "outputs": [],
   "source": [
    "def generate_network(N, N_classes=10, L=1, theta_init_name='haar_rect', phi_init_name='random_phi', alpha=0.1, g=0.05*np.pi, phi_b=1*np.pi):\n",
    "    \"\"\" Creates L layer ONN\n",
    "\n",
    "    Args:\n",
    "        N (int): Size of the input layer\n",
    "        N_classes (int, optional): _description_. Defaults to 10.\n",
    "        L (int, optional): _description_. Defaults to 1.\n",
    "        theta_init_name (str, optional): _description_. Defaults to 'haar_rect'.\n",
    "        phi_init_name (str, optional): _description_. Defaults to 'random_phi'.\n",
    "\n",
    "    Returns:\n",
    "        Sequential: _description_\n",
    "    \"\"\"\n",
    "    layers=[]\n",
    "    \n",
    "    for _ in range(L):\n",
    "        layers.append(RM(N, theta_init_name=theta_init_name, phi_init_name=phi_init_name))\n",
    "        # layers.append(EOIntensityModulation(N, alpha, g, phi_b))\n",
    "    \n",
    "    layers.append(Activation(cnormsq))\n",
    "    layers.append(Lambda(lambda x: tf.math.real(x[:, :N_classes])))\n",
    "    layers.append(Lambda(lambda x: tf.math.l2_normalize(x, axis=-1)))\n",
    "    # layers.append(tf.keras.layers.Softmax(axis=-1))\n",
    "\n",
    "    return Sequential(layers)"
   ]
  },
  {
   "cell_type": "code",
   "execution_count": 47,
   "metadata": {},
   "outputs": [
    {
     "data": {
      "text/plain": [
       "<tf.Variable 'theta:0' shape=(3, 1) dtype=float32, numpy=\n",
       "array([[1.8426768 ],\n",
       "       [0.60399073],\n",
       "       [1.2933435 ]], dtype=float32)>"
      ]
     },
     "execution_count": 47,
     "metadata": {},
     "output_type": "execute_result"
    }
   ],
   "source": [
    "\n",
    "bruh = RM(3).theta\n",
    "bruh"
   ]
  },
  {
   "cell_type": "code",
   "execution_count": 45,
   "metadata": {},
   "outputs": [
    {
     "data": {
      "text/plain": [
       "<tf.Variable 'theta:0' shape=(3, 1) dtype=float32, numpy=\n",
       "array([[2.370154  ],\n",
       "       [0.27833036],\n",
       "       [1.4279652 ]], dtype=float32)>"
      ]
     },
     "execution_count": 45,
     "metadata": {},
     "output_type": "execute_result"
    }
   ],
   "source": [
    "hi = RM(3)\n",
    "hi.theta"
   ]
  },
  {
   "cell_type": "code",
   "execution_count": 48,
   "metadata": {},
   "outputs": [],
   "source": [
    "hi.theta = bruh"
   ]
  },
  {
   "cell_type": "code",
   "execution_count": 49,
   "metadata": {},
   "outputs": [
    {
     "data": {
      "text/plain": [
       "<tf.Variable 'theta:0' shape=(3, 1) dtype=float32, numpy=\n",
       "array([[1.8426768 ],\n",
       "       [0.60399073],\n",
       "       [1.2933435 ]], dtype=float32)>"
      ]
     },
     "execution_count": 49,
     "metadata": {},
     "output_type": "execute_result"
    }
   ],
   "source": [
    "hi.theta"
   ]
  },
  {
   "cell_type": "code",
   "execution_count": null,
   "metadata": {},
   "outputs": [],
   "source": []
  }
 ],
 "metadata": {
  "kernelspec": {
   "display_name": "neurophoxgpu",
   "language": "python",
   "name": "python3"
  },
  "language_info": {
   "codemirror_mode": {
    "name": "ipython",
    "version": 3
   },
   "file_extension": ".py",
   "mimetype": "text/x-python",
   "name": "python",
   "nbconvert_exporter": "python",
   "pygments_lexer": "ipython3",
   "version": "3.10.11"
  },
  "orig_nbformat": 4
 },
 "nbformat": 4,
 "nbformat_minor": 2
}
