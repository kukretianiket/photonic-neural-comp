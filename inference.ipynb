{
 "cells": [
  {
   "cell_type": "code",
   "execution_count": 1,
   "metadata": {},
   "outputs": [],
   "source": [
    "# General imports\n",
    "import numpy as np\n",
    "import scipy as sp\n",
    "import matplotlib.pyplot as plt\n",
    "\n",
    "import tensorflow as tf\n",
    "# from sklearn.preprocessing import normalize\n",
    "\n",
    "# Neurophox imports\n",
    "from neurophox.numpy import *\n",
    "from neurophox.tensorflow import *\n",
    "from neurophox.ml.nonlinearities import cnorm, cnormsq\n",
    "from neurophox.initializers import *\n",
    "from neurophox.components import *\n",
    "from neurophox.helpers import *"
   ]
  },
  {
   "cell_type": "code",
   "execution_count": 5,
   "metadata": {},
   "outputs": [],
   "source": [
    "class PhaseInitializer(MeshPhaseInitializer):\n",
    "    \"\"\"\n",
    "    User-specified initialization of rectangular and triangular mesh architectures.\n",
    "\n",
    "    Args:\n",
    "        phase: Phase to initialize\n",
    "        units: Input dimension, :math:`N`\n",
    "    \"\"\"\n",
    "\n",
    "    def __init__(self, phase: np.ndarray, units: int):\n",
    "        self.phase, self.units = phase, units\n",
    "        super(PhaseInitializer, self).__init__(units, self.phase.shape[0])\n",
    "\n",
    "    def to_np(self) -> np.ndarray:\n",
    "        return self.phase.astype(NP_FLOAT)"
   ]
  },
  {
   "cell_type": "markdown",
   "metadata": {},
   "source": [
    "Basic unit simulation\n",
    "$$ U_2(\\theta, \\phi) = B \\cdot R(\\theta) \\cdot B \\cdot R(\\phi) = i \\begin{bmatrix} e^{i \\phi}\\sin \\frac{\\theta}{2} & \\cos \\frac{\\theta}{2} \\\\\\\\\n",
    "        e^{i \\phi}\\cos \\frac{\\theta}{2} & -\\sin \\frac{\\theta}{2} \\end{bmatrix} $$\n",
    "![Alt text](image.png)"
   ]
  },
  {
   "cell_type": "code",
   "execution_count": 153,
   "metadata": {},
   "outputs": [
    {
     "data": {
      "text/plain": [
       "array([[0.+0.j, 0.+1.j],\n",
       "       [0.+1.j, 0.+0.j]])"
      ]
     },
     "execution_count": 153,
     "metadata": {},
     "output_type": "execute_result"
    }
   ],
   "source": [
    "mzi.BlochMZI(0, 0, False).matrix"
   ]
  },
  {
   "cell_type": "code",
   "execution_count": 135,
   "metadata": {},
   "outputs": [
    {
     "data": {
      "text/plain": [
       "neurophox.numpy.layers.RMNumpy"
      ]
     },
     "execution_count": 135,
     "metadata": {},
     "output_type": "execute_result"
    }
   ],
   "source": [
    "input = 4\n",
    "depth = 1\n",
    "layer = RMNumpy(input, depth)\n",
    "type(layer)"
   ]
  },
  {
   "cell_type": "markdown",
   "metadata": {},
   "source": [
    "Phases are stored in arrays of size `(depth, input // 2)` "
   ]
  },
  {
   "cell_type": "code",
   "execution_count": 136,
   "metadata": {},
   "outputs": [
    {
     "data": {
      "text/plain": [
       "array([[1.44017885, 2.48465949]])"
      ]
     },
     "execution_count": 136,
     "metadata": {},
     "output_type": "execute_result"
    }
   ],
   "source": [
    "layer.theta"
   ]
  },
  {
   "cell_type": "code",
   "execution_count": 138,
   "metadata": {},
   "outputs": [
    {
     "data": {
      "text/plain": [
       "array([[2.10340849, 3.32631874]])"
      ]
     },
     "execution_count": 138,
     "metadata": {},
     "output_type": "execute_result"
    }
   ],
   "source": [
    "layer.phi"
   ]
  },
  {
   "cell_type": "code",
   "execution_count": 140,
   "metadata": {},
   "outputs": [
    {
     "data": {
      "text/plain": [
       "array([[1.75036799, 1.8018539 ],\n",
       "       [0.74876412, 0.        ],\n",
       "       [2.2065949 , 1.56428062],\n",
       "       [1.23219666, 0.        ],\n",
       "       [1.26697316, 1.92253901]])"
      ]
     },
     "execution_count": 140,
     "metadata": {},
     "output_type": "execute_result"
    }
   ],
   "source": [
    "HaarRandomPhaseInitializer(4, 5).to_np()"
   ]
  },
  {
   "cell_type": "code",
   "execution_count": 154,
   "metadata": {},
   "outputs": [],
   "source": [
    "units = 7\n",
    "a = ConstantPhaseInitializer(units, units, np.pi/4).to_np() # \n",
    "b = ConstantPhaseInitializer(2*units, 1, 0).to_np()"
   ]
  },
  {
   "cell_type": "code",
   "execution_count": 155,
   "metadata": {},
   "outputs": [
    {
     "data": {
      "text/plain": [
       "array([[0.78539816, 0.78539816, 0.78539816],\n",
       "       [0.78539816, 0.78539816, 0.78539816],\n",
       "       [0.78539816, 0.78539816, 0.78539816],\n",
       "       [0.78539816, 0.78539816, 0.78539816],\n",
       "       [0.78539816, 0.78539816, 0.78539816],\n",
       "       [0.78539816, 0.78539816, 0.78539816],\n",
       "       [0.78539816, 0.78539816, 0.78539816]])"
      ]
     },
     "execution_count": 155,
     "metadata": {},
     "output_type": "execute_result"
    }
   ],
   "source": [
    "a"
   ]
  },
  {
   "cell_type": "code",
   "execution_count": 156,
   "metadata": {},
   "outputs": [
    {
     "data": {
      "text/plain": [
       "<neurophox.numpy.generic.MeshPhases at 0x242bea45ba0>"
      ]
     },
     "execution_count": 156,
     "metadata": {},
     "output_type": "execute_result"
    }
   ],
   "source": [
    "MeshPhases(a, a, b)"
   ]
  },
  {
   "cell_type": "code",
   "execution_count": 28,
   "metadata": {},
   "outputs": [],
   "source": [
    "test = RMNumpy(3, theta"
   ]
  },
  {
   "cell_type": "code",
   "execution_count": 30,
   "metadata": {},
   "outputs": [
    {
     "data": {
      "text/plain": [
       "array([[0.07270435],\n",
       "       [2.70819913],\n",
       "       [1.81948186]])"
      ]
     },
     "execution_count": 30,
     "metadata": {},
     "output_type": "execute_result"
    }
   ],
   "source": [
    "test.phases.theta.param"
   ]
  },
  {
   "cell_type": "code",
   "execution_count": 51,
   "metadata": {},
   "outputs": [
    {
     "data": {
      "text/plain": [
       "array([[3.15877717],\n",
       "       [2.49461025],\n",
       "       [2.20933119]])"
      ]
     },
     "execution_count": 51,
     "metadata": {},
     "output_type": "execute_result"
    }
   ],
   "source": [
    "test.phases.phi.param"
   ]
  },
  {
   "cell_type": "code",
   "execution_count": 52,
   "metadata": {},
   "outputs": [
    {
     "data": {
      "text/plain": [
       "array([[ 0.60697159,  0.31099923,  0.56216369],\n",
       "       [-0.60697159, -0.31099923, -0.56216369],\n",
       "       [ 0.        ,  0.        ,  0.        ]])"
      ]
     },
     "execution_count": 52,
     "metadata": {},
     "output_type": "execute_result"
    }
   ],
   "source": [
    "test.phases.internal_phase_shifts"
   ]
  },
  {
   "cell_type": "code",
   "execution_count": 23,
   "metadata": {},
   "outputs": [
    {
     "data": {
      "text/plain": [
       "array([[5.31755520e-01+0.84689791j, 6.12323400e-17+1.j        ,\n",
       "        3.92609043e-01+0.91970546j],\n",
       "       [5.31755520e-01-0.84689791j, 6.12323400e-17-1.j        ,\n",
       "        3.92609043e-01-0.91970546j]])"
      ]
     },
     "execution_count": 23,
     "metadata": {},
     "output_type": "execute_result"
    }
   ],
   "source": [
    "test.phases.internal_phase_shift_layers"
   ]
  },
  {
   "cell_type": "code",
   "execution_count": 24,
   "metadata": {},
   "outputs": [
    {
     "data": {
      "text/plain": [
       "array([[4.14514526, 3.14159265, 0.0704377 ],\n",
       "       [0.        , 0.        , 0.        ]])"
      ]
     },
     "execution_count": 24,
     "metadata": {},
     "output_type": "execute_result"
    }
   ],
   "source": [
    "test.phases.external_phase_shifts"
   ]
  },
  {
   "cell_type": "code",
   "execution_count": null,
   "metadata": {},
   "outputs": [],
   "source": [
    "test.phases.external_phase_shifts"
   ]
  },
  {
   "cell_type": "code",
   "execution_count": 2,
   "metadata": {},
   "outputs": [],
   "source": [
    "mesh = RMNumpy(4)"
   ]
  },
  {
   "cell_type": "code",
   "execution_count": 3,
   "metadata": {},
   "outputs": [
    {
     "data": {
      "text/plain": [
       "array([[ 1.16399871,  0.30440566,  0.6152424 ,  0.93678246],\n",
       "       [-1.16399871, -0.30440566, -0.6152424 , -0.93678246],\n",
       "       [ 0.84330719,  1.57079633,  0.62072424,  1.57079633],\n",
       "       [-0.84330719, -1.57079633, -0.62072424, -1.57079633]])"
      ]
     },
     "execution_count": 3,
     "metadata": {},
     "output_type": "execute_result"
    }
   ],
   "source": [
    "mesh.phases.internal_phase_shifts"
   ]
  },
  {
   "cell_type": "code",
   "execution_count": 147,
   "metadata": {},
   "outputs": [],
   "source": [
    "nplayer = RMNumpy(21, theta_init_name=\"random_theta\")"
   ]
  },
  {
   "cell_type": "code",
   "execution_count": 148,
   "metadata": {},
   "outputs": [],
   "source": [
    "inp = np.eye(21)[10]"
   ]
  },
  {
   "cell_type": "code",
   "execution_count": 149,
   "metadata": {},
   "outputs": [
    {
     "data": {
      "text/plain": [
       "array([[0.00000000e+00, 0.00000000e+00, 0.00000000e+00, 0.00000000e+00,\n",
       "        0.00000000e+00, 0.00000000e+00, 0.00000000e+00, 0.00000000e+00,\n",
       "        0.00000000e+00, 0.00000000e+00, 1.00000000e+00, 0.00000000e+00,\n",
       "        0.00000000e+00, 0.00000000e+00, 0.00000000e+00, 0.00000000e+00,\n",
       "        0.00000000e+00, 0.00000000e+00, 0.00000000e+00, 0.00000000e+00,\n",
       "        0.00000000e+00],\n",
       "       [0.00000000e+00, 0.00000000e+00, 0.00000000e+00, 0.00000000e+00,\n",
       "        0.00000000e+00, 0.00000000e+00, 0.00000000e+00, 0.00000000e+00,\n",
       "        0.00000000e+00, 0.00000000e+00, 9.55676316e-01, 2.94419395e-01,\n",
       "        0.00000000e+00, 0.00000000e+00, 0.00000000e+00, 0.00000000e+00,\n",
       "        0.00000000e+00, 0.00000000e+00, 0.00000000e+00, 0.00000000e+00,\n",
       "        0.00000000e+00],\n",
       "       [0.00000000e+00, 0.00000000e+00, 0.00000000e+00, 0.00000000e+00,\n",
       "        0.00000000e+00, 0.00000000e+00, 0.00000000e+00, 0.00000000e+00,\n",
       "        0.00000000e+00, 8.34542615e-01, 4.65677832e-01, 3.25775317e-02,\n",
       "        2.92611490e-01, 0.00000000e+00, 0.00000000e+00, 0.00000000e+00,\n",
       "        0.00000000e+00, 0.00000000e+00, 0.00000000e+00, 0.00000000e+00,\n",
       "        0.00000000e+00],\n",
       "       [0.00000000e+00, 0.00000000e+00, 0.00000000e+00, 0.00000000e+00,\n",
       "        0.00000000e+00, 0.00000000e+00, 0.00000000e+00, 0.00000000e+00,\n",
       "        4.36068395e-02, 8.33402556e-01, 2.58226432e-01, 3.88891049e-01,\n",
       "        2.01753243e-01, 2.11936578e-01, 0.00000000e+00, 0.00000000e+00,\n",
       "        0.00000000e+00, 0.00000000e+00, 0.00000000e+00, 0.00000000e+00,\n",
       "        0.00000000e+00],\n",
       "       [0.00000000e+00, 0.00000000e+00, 0.00000000e+00, 0.00000000e+00,\n",
       "        0.00000000e+00, 0.00000000e+00, 0.00000000e+00, 2.84967167e-03,\n",
       "        4.35136280e-02, 4.62350805e-01, 7.39913808e-01, 4.07821117e-01,\n",
       "        1.60070473e-01, 9.47817475e-02, 1.89561424e-01, 0.00000000e+00,\n",
       "        0.00000000e+00, 0.00000000e+00, 0.00000000e+00, 0.00000000e+00,\n",
       "        0.00000000e+00],\n",
       "       [0.00000000e+00, 0.00000000e+00, 0.00000000e+00, 0.00000000e+00,\n",
       "        0.00000000e+00, 0.00000000e+00, 2.44712797e-03, 1.46020318e-03,\n",
       "        8.64108032e-02, 4.56283767e-01, 8.18621095e-01, 2.08925846e-01,\n",
       "        8.15860739e-02, 1.67182082e-01, 2.90747794e-02, 1.87318421e-01,\n",
       "        0.00000000e+00, 0.00000000e+00, 0.00000000e+00, 0.00000000e+00,\n",
       "        0.00000000e+00],\n",
       "       [0.00000000e+00, 0.00000000e+00, 0.00000000e+00, 0.00000000e+00,\n",
       "        0.00000000e+00, 1.28928680e-03, 2.07994588e-03, 6.50840122e-02,\n",
       "        5.68597437e-02, 8.91317744e-01, 2.89634344e-01, 1.94541360e-01,\n",
       "        1.11624172e-01, 5.92543773e-02, 1.59009780e-01, 1.20026016e-01,\n",
       "        1.43812191e-01, 0.00000000e+00, 0.00000000e+00, 0.00000000e+00,\n",
       "        0.00000000e+00],\n",
       "       [0.00000000e+00, 0.00000000e+00, 0.00000000e+00, 0.00000000e+00,\n",
       "        9.67601640e-05, 1.28565078e-03, 5.32712436e-02, 3.74490244e-02,\n",
       "        8.09642825e-01, 3.77039582e-01, 1.99500611e-01, 2.86240982e-01,\n",
       "        5.82624437e-02, 1.12145105e-01, 1.74333622e-01, 9.64268773e-02,\n",
       "        6.60028207e-02, 1.27771569e-01, 0.00000000e+00, 0.00000000e+00,\n",
       "        0.00000000e+00],\n",
       "       [0.00000000e+00, 0.00000000e+00, 0.00000000e+00, 7.34346991e-05,\n",
       "        6.30069385e-05, 5.31330162e-02, 4.04485848e-03, 7.88051909e-01,\n",
       "        1.89468002e-01, 1.98691319e-01, 3.77466688e-01, 2.60175682e-01,\n",
       "        1.32804469e-01, 1.52586882e-01, 1.40306735e-01, 1.12484389e-01,\n",
       "        3.16508658e-02, 1.27726323e-01, 3.40004560e-03, 0.00000000e+00,\n",
       "        0.00000000e+00],\n",
       "       [0.00000000e+00, 0.00000000e+00, 7.33254036e-05, 4.00502507e-06,\n",
       "        3.06491405e-02, 4.34022070e-02, 9.79339687e-02, 7.81953393e-01,\n",
       "        1.56264525e-01, 2.25738260e-01, 3.64068359e-01, 2.78615712e-01,\n",
       "        1.94138861e-01, 5.68320873e-02, 6.45575750e-02, 1.67842298e-01,\n",
       "        2.02883961e-02, 1.30016044e-01, 3.13058580e-03, 1.32655290e-03,\n",
       "        0.00000000e+00],\n",
       "       [0.00000000e+00, 3.47800366e-05, 6.45520245e-05, 1.04020544e-02,\n",
       "        2.88299686e-02, 9.75741360e-02, 4.42052235e-02, 7.34445814e-01,\n",
       "        3.10578585e-01, 1.62152475e-01, 3.96497298e-01, 2.61058886e-01,\n",
       "        2.17174747e-01, 5.76541445e-02, 6.38244957e-02, 1.50993465e-01,\n",
       "        7.60501771e-02, 6.82720617e-02, 1.10692809e-01, 7.75566355e-04,\n",
       "        1.07621533e-03],\n",
       "       [3.40911391e-05, 6.88804667e-06, 9.95676522e-03, 3.01159906e-03,\n",
       "        9.83353529e-02, 2.61158472e-02, 3.75695393e-01, 6.32627637e-01,\n",
       "        3.24513707e-01, 1.32073226e-01, 4.57085022e-01, 1.28199576e-01,\n",
       "        2.17344806e-01, 5.70097063e-02, 1.60004888e-01, 3.56514910e-02,\n",
       "        9.48546993e-02, 3.80432630e-02, 3.61796220e-02, 1.04616129e-01,\n",
       "        1.07621533e-03],\n",
       "       [3.40911391e-05, 7.23707647e-03, 6.83827063e-03, 3.02349882e-03,\n",
       "        9.83349877e-02, 3.27398567e-01, 1.86116212e-01, 6.75772313e-01,\n",
       "        2.21039938e-01, 2.04320665e-01, 4.29677926e-01, 1.27490672e-01,\n",
       "        2.17761394e-01, 9.09065901e-02, 1.43484015e-01, 8.51302384e-02,\n",
       "        5.49662197e-02, 3.80303878e-02, 3.61931557e-02, 1.04147975e-01,\n",
       "        9.94444839e-03],\n",
       "       [7.07694424e-03, 1.51436399e-03, 6.81198946e-03, 3.08225404e-03,\n",
       "        1.02912178e-01, 3.25988765e-01, 6.34962125e-01, 2.96867922e-01,\n",
       "        3.59096052e-02, 2.98857974e-01, 2.12403246e-01, 3.94666762e-01,\n",
       "        1.74343535e-01, 1.59023157e-01, 1.37037649e-01, 9.51604048e-02,\n",
       "        2.58810745e-02, 6.16260147e-02, 9.46877172e-02, 5.64887719e-02,\n",
       "        9.94444839e-03],\n",
       "       [7.07694424e-03, 5.88094103e-03, 3.75646526e-03, 1.01665725e-01,\n",
       "        1.62633629e-02, 5.61072948e-01, 4.41183321e-01, 2.26419303e-01,\n",
       "        1.95331415e-01, 3.17686821e-01, 1.83047293e-01, 2.04778201e-01,\n",
       "        3.79767573e-01, 1.01748910e-01, 1.83616016e-01, 4.90659252e-02,\n",
       "        8.55445360e-02, 7.18448882e-02, 8.71885401e-02, 2.15844484e-02,\n",
       "        5.31411798e-02],\n",
       "       [4.27375210e-03, 8.14884348e-03, 1.00840260e-01, 1.34637518e-02,\n",
       "        4.78864145e-01, 2.92842073e-01, 4.20798461e-01, 2.62368211e-01,\n",
       "        2.02948971e-01, 3.12875363e-01, 2.26047674e-01, 1.56022024e-01,\n",
       "        1.03625354e-01, 3.79259853e-01, 1.76018434e-01, 7.16925183e-02,\n",
       "        1.10045739e-01, 1.92221456e-02, 8.74486768e-02, 2.05050937e-02,\n",
       "        5.31411798e-02],\n",
       "       [4.27375210e-03, 8.10516147e-02, 6.05458297e-02, 3.23272529e-01,\n",
       "        3.53535025e-01, 3.45228184e-01, 3.79005707e-01, 3.03793327e-01,\n",
       "        1.33172738e-01, 1.34713241e-01, 3.61719347e-01, 3.53791127e-02,\n",
       "        1.83927715e-01, 3.39912563e-01, 2.43474793e-01, 1.17280996e-01,\n",
       "        5.91189476e-02, 8.71859984e-02, 2.03804718e-02, 5.30039759e-02,\n",
       "        2.08571903e-02],\n",
       "       [3.45573298e-02, 7.34399085e-02, 9.81234700e-02, 3.13915132e-01,\n",
       "        4.08484447e-01, 2.78046704e-01, 4.75598477e-01, 9.87005543e-02,\n",
       "        1.14654464e-01, 1.50787896e-01, 3.13667568e-01, 1.83589827e-01,\n",
       "        2.15099183e-01, 3.21095463e-01, 2.17505826e-01, 1.60393337e-01,\n",
       "        6.37190274e-02, 8.38828578e-02, 4.68594748e-02, 3.20776358e-02,\n",
       "        2.08571903e-02],\n",
       "       [3.45573298e-02, 9.00589918e-02, 8.31325059e-02, 4.42904069e-01,\n",
       "        2.63131601e-01, 2.85284110e-01, 4.71292752e-01, 1.24468287e-01,\n",
       "        8.59947150e-02, 2.33368835e-01, 2.58192408e-01, 1.42909324e-01,\n",
       "        2.44028294e-01, 2.32938993e-01, 3.10081451e-01, 5.03510736e-02,\n",
       "        1.65078486e-01, 6.47768616e-02, 7.09655015e-02, 1.50664829e-02,\n",
       "        3.51709852e-02],\n",
       "       [8.68351352e-03, 9.60699101e-02, 4.42318442e-01, 8.61941044e-02,\n",
       "        3.27142620e-01, 2.08813240e-01, 3.16119428e-01, 3.71049484e-01,\n",
       "        2.45508097e-01, 3.97728360e-02, 2.88075420e-01, 6.40230188e-02,\n",
       "        2.13480193e-01, 2.61221342e-01, 2.27989199e-01, 2.16117241e-01,\n",
       "        1.63473450e-01, 6.87268451e-02, 7.09286790e-02, 1.52388914e-02,\n",
       "        3.51709852e-02],\n",
       "       [8.68351352e-03, 3.72149442e-01, 2.57642824e-01, 9.21650599e-02,\n",
       "        3.25510859e-01, 1.67352431e-01, 3.39893550e-01, 4.40512642e-01,\n",
       "        6.24544441e-02, 1.01567811e-01, 2.72494598e-01, 1.11982157e-01,\n",
       "        1.92698563e-01, 2.79488054e-01, 2.05187943e-01, 6.97668740e-02,\n",
       "        2.61845019e-01, 6.72716863e-02, 7.23102825e-02, 2.32015050e-02,\n",
       "        3.05108535e-02],\n",
       "       [4.60099041e-02, 3.69396398e-01, 2.49166603e-01, 1.13093886e-01,\n",
       "        3.31641480e-01, 1.54848586e-01, 2.45886678e-01, 4.99117977e-01,\n",
       "        6.25217843e-02, 1.01526372e-01, 1.63934371e-01, 2.44783233e-01,\n",
       "        1.82860115e-01, 2.86021830e-01, 1.42258164e-01, 1.63499613e-01,\n",
       "        1.17094616e-01, 2.43674260e-01, 7.36785314e-02, 1.84000217e-02,\n",
       "        3.05108535e-02]])"
      ]
     },
     "execution_count": 149,
     "metadata": {},
     "output_type": "execute_result"
    }
   ],
   "source": [
    "abs(nplayer.propagate(inp)).squeeze()"
   ]
  },
  {
   "cell_type": "code",
   "execution_count": 150,
   "metadata": {},
   "outputs": [
    {
     "data": {
      "text/plain": [
       "Text(0.5, 1.0, 'Propagation for Haar random $\\\\theta_{n\\\\ell}$')"
      ]
     },
     "execution_count": 150,
     "metadata": {},
     "output_type": "execute_result"
    },
    {
     "data": {
      "image/png": "[encoded data removed]",
      "text/plain": [
       "<Figure size 2000x1000 with 1 Axes>"
      ]
     },
     "metadata": {},
     "output_type": "display_data"
    }
   ],
   "source": [
    "plt.figure(dpi=200, figsize=(10, 5))\n",
    "plt.imshow(abs(nplayer.propagate(inp)).squeeze().T, cmap='hot')\n",
    "plt.ylabel(\"Index ($n$)\")\n",
    "plt.xlabel(\"Layer ($\\ell$)\")\n",
    "plt.title('Propagation for Haar random $\\\\theta_{n\\ell}$')"
   ]
  },
  {
   "cell_type": "code",
   "execution_count": null,
   "metadata": {},
   "outputs": [],
   "source": []
  },
  {
   "cell_type": "code",
   "execution_count": null,
   "metadata": {},
   "outputs": [],
   "source": []
  }
 ],
 "metadata": {
  "kernelspec": {
   "display_name": "neurophoxgpu",
   "language": "python",
   "name": "python3"
  },
  "language_info": {
   "codemirror_mode": {
    "name": "ipython",
    "version": 3
   },
   "file_extension": ".py",
   "mimetype": "text/x-python",
   "name": "python",
   "nbconvert_exporter": "python",
   "pygments_lexer": "ipython3",
   "version": "3.10.11"
  },
  "orig_nbformat": 4
 },
 "nbformat": 4,
 "nbformat_minor": 2
}
