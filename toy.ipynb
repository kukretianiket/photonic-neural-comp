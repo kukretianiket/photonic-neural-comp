{
 "cells": [
  {
   "cell_type": "code",
   "execution_count": 1,
   "metadata": {},
   "outputs": [],
   "source": [
    "# General imports\n",
    "import numpy as np\n",
    "import scipy as sp\n",
    "import matplotlib.pyplot as plt\n",
    "\n",
    "# TF imports\n",
    "from tensorflow.keras import Input\n",
    "from tensorflow.keras.models import Sequential\n",
    "from tensorflow.keras.layers import Activation, Lambda\n",
    "from tensorflow.keras.datasets import mnist, fashion_mnist\n",
    "from tensorflow.keras.optimizers import Adam\n",
    "from tensorflow.keras.utils import to_categorical\n",
    "\n",
    "# Neurophox imports\n",
    "from neurophox.numpy import *\n",
    "from neurophox.tensorflow import *\n",
    "from neurophox.ml.nonlinearities import cnorm, cnormsq\n",
    "from neurophox.initializers import *\n",
    "from neurophox.components import *\n",
    "from neurophox.helpers import *"
   ]
  },
  {
   "cell_type": "code",
   "execution_count": 2,
   "metadata": {},
   "outputs": [
    {
     "data": {
      "text/plain": [
       "[PhysicalDevice(name='/physical_device:GPU:0', device_type='GPU')]"
      ]
     },
     "execution_count": 2,
     "metadata": {},
     "output_type": "execute_result"
    }
   ],
   "source": [
    "plt.rcParams['text.usetex'] = True \n",
    "plt.rcParams['text.latex.preamble'] = r\"\\usepackage{siunitx} \\usepackage{amsmath} \\usepackage{sansmathfonts} \\usepackage[T1]{fontenc} \\renewcommand*\\familydefault{\\sfdefault}\"\n",
    "tf.config.list_physical_devices('GPU')"
   ]
  },
  {
   "cell_type": "code",
   "execution_count": 3,
   "metadata": {},
   "outputs": [],
   "source": [
    "# Import dataset\n",
    "(X_raw, y), (X_test_raw, y_test) = fashion_mnist.load_data()"
   ]
  },
  {
   "cell_type": "code",
   "execution_count": 4,
   "metadata": {},
   "outputs": [],
   "source": [
    "X_train = X_raw.reshape(X_raw.shape[0], X_raw.shape[1] * X_raw.shape[2])\n",
    "X_train = X_train.astype('float32') / 255\n",
    "X_test = X_test_raw.reshape(X_test_raw.shape[0], X_test_raw.shape[1] * X_test_raw.shape[2])\n",
    "X_test = X_test.astype('float32') / 255"
   ]
  },
  {
   "cell_type": "code",
   "execution_count": 5,
   "metadata": {},
   "outputs": [],
   "source": [
    "y = to_categorical(y)\n",
    "y_test = to_categorical(y_test)"
   ]
  },
  {
   "cell_type": "code",
   "execution_count": 6,
   "metadata": {},
   "outputs": [
    {
     "name": "stdout",
     "output_type": "stream",
     "text": [
      "Training Images: (60000, 784)\n",
      "Testing Images: (10000, 784)\n",
      "Training Labels: (60000, 10)\n",
      "Test Labels: (10000, 10)\n"
     ]
    }
   ],
   "source": [
    "# Show the shapes of the data.\n",
    "print(\"Training Images:\", X_train.shape)\n",
    "print(\"Testing Images:\", X_test.shape)\n",
    "print(\"Training Labels:\", y.shape)\n",
    "print(\"Test Labels:\", y_test.shape)"
   ]
  },
  {
   "cell_type": "code",
   "execution_count": 7,
   "metadata": {},
   "outputs": [],
   "source": [
    "def normalize(X):\n",
    "    return X / abs(X).mean(axis=0, keepdims=True)\n",
    "\n",
    "def inputFFT(X_raw, X_test_raw, r):\n",
    "    '''\n",
    "        FTs the input images\n",
    "    '''\n",
    "    c = X_raw.shape[1] // 2\n",
    "\n",
    "    # FTing the image data\n",
    "    X_ft = np.fft.fftshift(np.fft.fft2(X_raw), axes=(1, 2))\n",
    "    X_test_ft = np.fft.fftshift(np.fft.fft2(X_test_raw), axes=(1, 2))\n",
    "\n",
    "    # Cropping out the outer pixels\n",
    "    X_ft = X_ft[:, c-r:c+r, c-r:c+r]\n",
    "    X_test_ft = X_test_ft[:, c-r:c+r, c-r:c+r]\n",
    "\n",
    "    # Flatten image\n",
    "    X_ft = X_ft.reshape(X_ft.shape[0], -1)\n",
    "    X_test_ft = X_test_ft.reshape(X_test_ft.shape[0], -1)\n",
    "\n",
    "    # Normalizing\n",
    "    X_ft = normalize(X_ft).astype(np.complex64)\n",
    "    X_test_ft = normalize(X_test_ft).astype(np.complex64)\n",
    "    return X_ft, X_test_ft\n",
    "\n",
    "X_ft, X_test_ft = inputFFT(X_raw, X_test_raw, 3)"
   ]
  },
  {
   "cell_type": "code",
   "execution_count": 8,
   "metadata": {},
   "outputs": [
    {
     "data": {
      "text/plain": [
       "(60000, 36)"
      ]
     },
     "execution_count": 8,
     "metadata": {},
     "output_type": "execute_result"
    }
   ],
   "source": [
    "X_ft.shape"
   ]
  },
  {
   "cell_type": "code",
   "execution_count": 9,
   "metadata": {},
   "outputs": [],
   "source": [
    "def generate_network_v2(N, N_classes, theta_init_name='haar_rect', phi_init_name='random_phi'):\n",
    "    \"\"\" \n",
    "\n",
    "    Args:\n",
    "        N (int): Size of the input layer\n",
    "        N_classes (int, optional): _description_. Defaults to 10.\n",
    "        L (int, optional): _description_. Defaults to 1.\n",
    "        theta_init_name (str, optional): _description_. Defaults to 'haar_rect'.\n",
    "        phi_init_name (str, optional): _description_. Defaults to 'random_phi'.\n",
    "\n",
    "    Returns:\n",
    "        Sequential: _description_\n",
    "    \"\"\"\n",
    "    layers=[]\n",
    "    layers.append(RM(N, theta_init_name=theta_init_name, phi_init_name=phi_init_name))\n",
    "    # layers.append(Lambda(lambda x: x[:, :50]))\n",
    "    # layers.append(RM(50, theta_init_name=theta_init_name, phi_init_name=phi_init_name))\n",
    "    layers.append(Activation(cnormsq))\n",
    "    layers.append(Lambda(lambda x: tf.math.real(x[:, :N_classes])))\n",
    "    layers.append(tf.keras.layers.Softmax(axis=-1))\n",
    "\n",
    "    return Sequential(layers)"
   ]
  },
  {
   "cell_type": "code",
   "execution_count": 10,
   "metadata": {},
   "outputs": [],
   "source": [
    "epochs = 20\n",
    "batch_size = 256\n",
    "N_classes = 10"
   ]
  },
  {
   "cell_type": "code",
   "execution_count": 11,
   "metadata": {},
   "outputs": [],
   "source": [
    "onn_model = generate_network_v2(36, 10)"
   ]
  },
  {
   "cell_type": "code",
   "execution_count": 12,
   "metadata": {},
   "outputs": [],
   "source": [
    "onn_model.compile(optimizer='adam', loss='categorical_crossentropy', metrics=['accuracy'])"
   ]
  },
  {
   "cell_type": "code",
   "execution_count": 13,
   "metadata": {},
   "outputs": [
    {
     "name": "stdout",
     "output_type": "stream",
     "text": [
      "Epoch 1/20\n",
      "235/235 - 34s - loss: 1.8813 - accuracy: 0.4254 - val_loss: 1.3514 - val_accuracy: 0.6080 - 34s/epoch - 144ms/step\n",
      "Epoch 2/20\n",
      "235/235 - 15s - loss: 1.1032 - accuracy: 0.6813 - val_loss: 0.9968 - val_accuracy: 0.7104 - 15s/epoch - 63ms/step\n",
      "Epoch 3/20\n",
      "235/235 - 15s - loss: 0.9033 - accuracy: 0.7369 - val_loss: 0.8895 - val_accuracy: 0.7377 - 15s/epoch - 62ms/step\n",
      "Epoch 4/20\n",
      "235/235 - 15s - loss: 0.8232 - accuracy: 0.7587 - val_loss: 0.8352 - val_accuracy: 0.7569 - 15s/epoch - 66ms/step\n",
      "Epoch 5/20\n",
      "235/235 - 16s - loss: 0.7784 - accuracy: 0.7713 - val_loss: 0.8011 - val_accuracy: 0.7642 - 16s/epoch - 68ms/step\n",
      "Epoch 6/20\n",
      "235/235 - 16s - loss: 0.7491 - accuracy: 0.7788 - val_loss: 0.7752 - val_accuracy: 0.7731 - 16s/epoch - 70ms/step\n",
      "Epoch 7/20\n",
      "235/235 - 16s - loss: 0.7281 - accuracy: 0.7840 - val_loss: 0.7584 - val_accuracy: 0.7797 - 16s/epoch - 68ms/step\n",
      "Epoch 8/20\n",
      "235/235 - 15s - loss: 0.7114 - accuracy: 0.7883 - val_loss: 0.7448 - val_accuracy: 0.7794 - 15s/epoch - 63ms/step\n",
      "Epoch 9/20\n",
      "235/235 - 16s - loss: 0.6994 - accuracy: 0.7916 - val_loss: 0.7338 - val_accuracy: 0.7798 - 16s/epoch - 66ms/step\n",
      "Epoch 10/20\n",
      "235/235 - 16s - loss: 0.6898 - accuracy: 0.7946 - val_loss: 0.7238 - val_accuracy: 0.7827 - 16s/epoch - 68ms/step\n",
      "Epoch 11/20\n",
      "235/235 - 16s - loss: 0.6800 - accuracy: 0.7969 - val_loss: 0.7130 - val_accuracy: 0.7867 - 16s/epoch - 67ms/step\n",
      "Epoch 12/20\n",
      "235/235 - 15s - loss: 0.6728 - accuracy: 0.7982 - val_loss: 0.7071 - val_accuracy: 0.7874 - 15s/epoch - 63ms/step\n",
      "Epoch 13/20\n",
      "235/235 - 15s - loss: 0.6671 - accuracy: 0.7990 - val_loss: 0.6979 - val_accuracy: 0.7907 - 15s/epoch - 62ms/step\n",
      "Epoch 14/20\n",
      "235/235 - 15s - loss: 0.6606 - accuracy: 0.8015 - val_loss: 0.6986 - val_accuracy: 0.7882 - 15s/epoch - 63ms/step\n",
      "Epoch 15/20\n",
      "235/235 - 16s - loss: 0.6563 - accuracy: 0.8024 - val_loss: 0.6901 - val_accuracy: 0.7957 - 16s/epoch - 69ms/step\n",
      "Epoch 16/20\n",
      "235/235 - 15s - loss: 0.6513 - accuracy: 0.8030 - val_loss: 0.6848 - val_accuracy: 0.7955 - 15s/epoch - 66ms/step\n",
      "Epoch 17/20\n",
      "235/235 - 16s - loss: 0.6490 - accuracy: 0.8034 - val_loss: 0.6795 - val_accuracy: 0.7963 - 16s/epoch - 67ms/step\n",
      "Epoch 18/20\n",
      "235/235 - 15s - loss: 0.6459 - accuracy: 0.8044 - val_loss: 0.6780 - val_accuracy: 0.7956 - 15s/epoch - 65ms/step\n",
      "Epoch 19/20\n",
      "235/235 - 16s - loss: 0.6424 - accuracy: 0.8051 - val_loss: 0.6746 - val_accuracy: 0.7992 - 16s/epoch - 66ms/step\n",
      "Epoch 20/20\n",
      "235/235 - 15s - loss: 0.6410 - accuracy: 0.8055 - val_loss: 0.6729 - val_accuracy: 0.7994 - 15s/epoch - 63ms/step\n"
     ]
    }
   ],
   "source": [
    "history = onn_model.fit(X_ft, y, epochs=epochs, batch_size=batch_size, validation_data=(X_test_ft, y_test), verbose=2)"
   ]
  },
  {
   "cell_type": "code",
   "execution_count": 28,
   "metadata": {},
   "outputs": [],
   "source": [
    "def grid_common_mode_flow(external_phases: np.ndarray, gamma: np.ndarray, basis: str = \"sm\"):\n",
    "    \"\"\"In a grid mesh (e.g., triangular, rectangular meshes), arrange phases according to single-mode (:code:`sm`),\n",
    "       differential mode (:code:`diff`), or max-:math:`\\\\pi` (:code:`maxpi`, all external phase shifts are at most\n",
    "       :math:`\\\\pi`). This is done using a procedure called \"common mode flow\" where common modes are shifted\n",
    "       throughout the mesh until phases are correctly set.\n",
    "\n",
    "    Args:\n",
    "        external_phases: external phases in the grid mesh\n",
    "        gamma: input phase shifts\n",
    "        basis: single-mode (:code:`sm`), differential mode (:code:`diff`), or max-:math:`\\\\pi` (:code:`maxpi`)\n",
    "\n",
    "    Returns:\n",
    "        new external phases shifts and new gamma resulting\n",
    "\n",
    "    \"\"\"\n",
    "    units, num_layers = external_phases.shape\n",
    "    phase_shifts = np.hstack((gamma[:, np.newaxis], external_phases)).T\n",
    "    new_phase_shifts = np.zeros_like(external_phases.T)\n",
    "\n",
    "    for i in range(num_layers):\n",
    "        current_layer = num_layers - i\n",
    "        start_idx = (current_layer - 1) % 2\n",
    "        end_idx = units - (current_layer + units - 1) % 2\n",
    "        # calculate phase information\n",
    "        upper_phase = phase_shifts[current_layer][start_idx:end_idx][::2]\n",
    "        lower_phase = phase_shifts[current_layer][start_idx:end_idx][1::2]\n",
    "        upper_phase = np.mod(upper_phase, 2 * np.pi)\n",
    "        lower_phase = np.mod(lower_phase, 2 * np.pi)\n",
    "        if basis == \"sm\":\n",
    "            new_phase_shifts[-i - 1][start_idx:end_idx][::2] = upper_phase - lower_phase\n",
    "        # assign differential phase to the single mode layer and keep common mode layer\n",
    "        else:\n",
    "            phase_diff = upper_phase - lower_phase\n",
    "            phase_diff[phase_diff > np.pi] -= 2 * np.pi\n",
    "            phase_diff[phase_diff < -np.pi] += 2 * np.pi\n",
    "            if basis == \"diff\":\n",
    "                new_phase_shifts[-i - 1][start_idx:end_idx][::2] = phase_diff / 2\n",
    "                new_phase_shifts[-i - 1][start_idx:end_idx][1::2] = -phase_diff / 2\n",
    "            elif basis == \"pimax\":\n",
    "                new_phase_shifts[-i - 1][start_idx:end_idx][::2] = phase_diff * (phase_diff >= 0)\n",
    "                new_phase_shifts[-i - 1][start_idx:end_idx][1::2] = -phase_diff * (phase_diff < 0)\n",
    "        # update the previous layer with the common mode calculated for the current layer\\\n",
    "        phase_shifts[current_layer] -= new_phase_shifts[-i - 1]\n",
    "        phase_shifts[current_layer - 1] += np.mod(phase_shifts[current_layer], 2 * np.pi)\n",
    "        phase_shifts[current_layer] = 0\n",
    "    new_gamma = np.mod(phase_shifts[0], 2 * np.pi)\n",
    "    return np.mod(new_phase_shifts.T, 2 * np.pi), new_gamma\n",
    "\n",
    "def checkerboard_to_param(checkerboard: np.ndarray, units: int):\n",
    "    param = np.zeros((units, units // 2))\n",
    "    if units % 2:\n",
    "        param[::2, :] = checkerboard.T[::2, :-1:2]\n",
    "    else:\n",
    "        param[::2, :] = checkerboard.T[::2, ::2]\n",
    "    param[1::2, :] = checkerboard.T[1::2, 1::2]\n",
    "    return param"
   ]
  },
  {
   "cell_type": "code",
   "execution_count": 56,
   "metadata": {},
   "outputs": [],
   "source": [
    "def clements_decomposition(u: np.ndarray, pbar_handle: Callable = None, smmzi: bool = False) -> RM:\n",
    "    \"\"\"Clements decomposition of unitary matrix :math:`U` to output a NumPy rectangular mesh layer\n",
    "\n",
    "    Args:\n",
    "        u: unitary matrix :math:`U` to be decomposed into pairwise operators.\n",
    "        pbar_handle: Useful for larger matrices\n",
    "\n",
    "    Returns:\n",
    "        The :code:`RMNumpy` layer that outputs the unitary :math:`U`\n",
    "\n",
    "    \"\"\"\n",
    "    u_hat = u.T.copy()\n",
    "    n = u.shape[0]\n",
    "    # odd and even layer dimensions\n",
    "    theta_checkerboard = np.zeros_like(u, dtype=NP_FLOAT)\n",
    "    phi_checkerboard = np.zeros_like(u, dtype=NP_FLOAT)\n",
    "    phi_checkerboard = np.hstack((np.zeros((n, 1)), phi_checkerboard))\n",
    "    iterator = pbar_handle(range(n - 1)) if pbar_handle else range(n - 1)\n",
    "    MZI = SMMZI if smmzi else BlochMZI\n",
    "    for i in iterator:\n",
    "        if i % 2:\n",
    "            for j in range(i + 1):\n",
    "                pairwise_index = n + j - i - 2\n",
    "                target_row, target_col = n + j - i - 1, j\n",
    "                theta = np.arctan(np.abs(u_hat[target_row - 1, target_col] / u_hat[target_row, target_col])) * 2\n",
    "                phi = np.angle(u_hat[target_row, target_col] / u_hat[target_row - 1, target_col])\n",
    "                mzi = MZI(theta, phi, hadamard=False, dtype=np.complex64)\n",
    "                left_multiplier = mzi.givens_rotation(units=n, m=pairwise_index)\n",
    "                u_hat = left_multiplier @ u_hat\n",
    "                theta_checkerboard[pairwise_index, j] = theta\n",
    "                phi_checkerboard[pairwise_index, j] = -phi + np.pi\n",
    "                phi_checkerboard[pairwise_index + 1, j] = np.pi\n",
    "        else:\n",
    "            for j in range(i + 1):\n",
    "                pairwise_index = i - j\n",
    "                target_row, target_col = n - j - 1, i - j\n",
    "                theta = np.arctan(np.abs(u_hat[target_row, target_col + 1] / u_hat[target_row, target_col])) * 2\n",
    "                phi = np.angle(-u_hat[target_row, target_col] / u_hat[target_row, target_col + 1])\n",
    "                mzi = BlochMZI(theta, phi, hadamard=False, dtype=np.complex64)\n",
    "                right_multiplier = mzi.givens_rotation(units=n, m=pairwise_index)\n",
    "                u_hat = u_hat @ right_multiplier.conj().T\n",
    "                theta_checkerboard[pairwise_index, -j - 1] = theta\n",
    "                phi_checkerboard[pairwise_index, -j - 1] = phi + np.pi\n",
    "\n",
    "    diag_phases = np.angle(np.diag(u_hat))\n",
    "    theta = checkerboard_to_param(np.fliplr(theta_checkerboard), n)\n",
    "    phi_checkerboard = np.fliplr(phi_checkerboard)\n",
    "    if n % 2:\n",
    "        phi_checkerboard[:, :-1] += np.fliplr(np.diag(diag_phases))\n",
    "    else:\n",
    "        phi_checkerboard[:, 1:] += np.fliplr(np.diag(diag_phases))\n",
    "        phi_checkerboard[-1, 2::2] += np.pi / 2  # neurophox layers assume pi / 2 phase shift in even layer \"bounces\"\n",
    "        phi_checkerboard[0, 2::2] += np.pi / 2\n",
    "\n",
    "    gamma = phi_checkerboard[:, 0]\n",
    "    external_phases = phi_checkerboard[:, 1:]\n",
    "    phi, gamma = grid_common_mode_flow(external_phases, gamma=gamma)\n",
    "    phi = checkerboard_to_param(phi, n)\n",
    "\n",
    "    # for some reason, we need to adjust gamma at the end in this strange way (found via trial and error...):\n",
    "    gamma_adj = np.zeros_like(gamma)\n",
    "    gamma_adj[1::4] = 1\n",
    "    gamma_adj[2::4] = 1\n",
    "    gamma += np.pi * (1 - gamma_adj) if (n // 2) % 2 else np.pi * gamma_adj\n",
    "    gamma = np.mod(gamma, 2 * np.pi)\n",
    "    ans = RM(units=n)\n",
    "    ans.theta = theta\n",
    "    ans.phi = phi\n",
    "    ans.gamma = gamma\n",
    "    return ans, theta, phi, gamma"
   ]
  },
  {
   "cell_type": "code",
   "execution_count": 57,
   "metadata": {},
   "outputs": [
    {
     "data": {
      "text/plain": [
       "array([[ 1.14878928e-02-0.01262338j,  6.70793205e-02+0.05961495j,\n",
       "         4.77957651e-02-0.07122278j,  8.89131874e-02+0.07028865j,\n",
       "         7.71195889e-02+0.07472196j, -1.03119455e-01+0.09505212j,\n",
       "        -6.75403401e-02+0.044178j  , -3.15255225e-02-0.02527959j,\n",
       "         9.49990228e-02+0.00777542j,  7.20604509e-03-0.08301166j,\n",
       "        -2.48817533e-01-0.19703491j,  7.35820085e-02+0.03837118j,\n",
       "         3.83044779e-01+0.16754557j,  1.51269678e-02-0.1424724j ,\n",
       "         2.58264631e-01+0.03855673j, -1.76287338e-01+0.1585699j ,\n",
       "        -1.03336945e-02-0.14222813j,  2.04745770e-01-0.19242093j],\n",
       "       [ 3.82427834e-02+0.13707861j,  7.09580481e-02+0.08091827j,\n",
       "        -7.95826316e-04-0.11451185j, -4.25149277e-02+0.06210376j,\n",
       "         2.45771874e-02+0.07510665j,  1.70334056e-01-0.11806981j,\n",
       "         1.11847911e-02-0.01130337j,  4.80662137e-02-0.14980897j,\n",
       "        -2.64570117e-05+0.03126169j,  6.15991130e-02+0.01783556j,\n",
       "        -2.46740486e-02+0.14585331j, -3.60900201e-02+0.17909554j,\n",
       "        -2.38215715e-01-0.06997256j,  4.89647537e-02-0.05544913j,\n",
       "         2.14925200e-01-0.108661j  ,  6.21334985e-02+0.06324562j,\n",
       "        -1.06477290e-01+0.07262844j,  4.02002297e-02+0.12201598j],\n",
       "       [-6.07797168e-02-0.01882357j, -1.36279151e-01+0.05817419j,\n",
       "         1.39483571e-01-0.0036437j , -1.02324501e-01+0.02506184j,\n",
       "         1.57231838e-03+0.00262435j,  3.46370302e-02-0.06617717j,\n",
       "        -3.27437767e-03+0.01886021j,  7.68409818e-02+0.02658601j,\n",
       "        -4.25522737e-02-0.08865947j, -5.35270385e-02+0.05926434j,\n",
       "         9.64658558e-02-0.01347394j,  1.53691471e-01-0.06433956j,\n",
       "         1.38310045e-01-0.01178628j,  7.08672218e-03-0.17479807j,\n",
       "         8.64929333e-02+0.15244861j, -1.77694727e-02-0.05689998j,\n",
       "        -2.62583662e-02+0.07492635j,  6.95231929e-02-0.23321846j],\n",
       "       [-3.10607124e-02-0.00617029j, -3.02313548e-02-0.03482953j,\n",
       "        -2.05039792e-03-0.0550731j , -3.11342794e-02-0.10483634j,\n",
       "         1.39365241e-01+0.09213167j,  2.36250728e-01-0.08247703j,\n",
       "         6.99110096e-03+0.01945292j, -1.37699787e-02+0.15378931j,\n",
       "         4.61603701e-02-0.01193063j, -1.23714119e-01-0.04621942j,\n",
       "        -1.50622815e-01-0.14984937j,  1.08295001e-01-0.10079074j,\n",
       "        -5.61782755e-02-0.11788447j,  1.73574284e-01-0.18666902j,\n",
       "        -1.21867627e-01-0.1871988j , -1.97273325e-02-0.05290969j,\n",
       "         5.93211651e-02+0.09850174j,  1.43261582e-01+0.24340454j],\n",
       "       [-1.08009823e-01-0.07865206j, -6.78159669e-02+0.10131903j,\n",
       "         1.90439411e-02+0.06733219j, -2.29279369e-01-0.08070841j,\n",
       "         7.58653656e-02+0.01622475j, -7.49427155e-02-0.15167788j,\n",
       "         1.06535628e-01-0.02501127j,  2.95039583e-02+0.05126681j,\n",
       "        -2.79233046e-03+0.08301489j,  1.59371436e-01-0.09761437j,\n",
       "         1.22358605e-01-0.14758946j,  1.12897463e-01+0.17858565j,\n",
       "         1.71831846e-01-0.07295349j, -6.09444305e-02-0.2152029j ,\n",
       "        -8.89644027e-03+0.06951389j,  1.86404243e-01-0.10315315j,\n",
       "        -4.01984900e-04-0.14497948j,  2.73895543e-02+0.14247015j],\n",
       "       [-4.70537506e-03-0.0462945j , -8.16667825e-02-0.01028774j,\n",
       "        -1.46786585e-01-0.03778173j, -4.95830625e-02-0.03318937j,\n",
       "        -1.80259459e-02+0.07643174j, -8.95815194e-02+0.04991299j,\n",
       "         7.80859664e-02-0.15665531j,  6.10930845e-03+0.03735666j,\n",
       "        -1.39252506e-02-0.04674589j, -2.23452952e-02-0.06632171j,\n",
       "         2.27065384e-01-0.41106686j,  1.18740685e-01-0.07581282j,\n",
       "        -3.83594185e-02+0.0544817j ,  4.17142399e-02+0.06107194j,\n",
       "         2.04173625e-01-0.17195266j,  1.85711041e-01+0.24173002j,\n",
       "         1.67823881e-01+0.13954821j,  5.49717471e-02+0.02947263j],\n",
       "       [-1.92451447e-01+0.0576921j , -6.48794137e-03-0.03604349j,\n",
       "        -6.61409646e-02+0.02496787j, -5.95451444e-02+0.15006086j,\n",
       "        -3.00628934e-02+0.10635561j,  2.59759754e-01+0.12055089j,\n",
       "        -1.87446587e-02+0.04351324j,  5.89343421e-02+0.08867224j,\n",
       "         6.16062731e-02+0.03029192j,  2.90633515e-02+0.03477329j,\n",
       "        -2.02609882e-01+0.02830029j,  3.75981480e-02-0.29295838j,\n",
       "         2.01303065e-02+0.20066866j,  1.10722281e-01+0.04226758j,\n",
       "        -1.38901144e-01+0.27988923j, -1.23574436e-02+0.07463221j,\n",
       "         1.46760911e-01+0.05931272j,  4.68621776e-03+0.17477603j],\n",
       "       [ 9.64772776e-02+0.20208566j,  7.59596825e-02-0.0439161j ,\n",
       "        -1.86555050e-02+0.02721615j,  9.25885811e-02+0.08174253j,\n",
       "        -1.53191343e-01+0.12824996j,  8.31559533e-04+0.05402226j,\n",
       "         3.27508003e-02-0.07375142j,  2.26850405e-01+0.03178011j,\n",
       "        -1.21706888e-01-0.14060655j,  2.17795614e-02+0.11546659j,\n",
       "        -1.31997988e-01+0.06949706j,  1.29549921e-01+0.0798373j ,\n",
       "        -6.68683127e-02+0.23912703j, -1.85524032e-01-0.14660875j,\n",
       "         4.17550653e-02+0.05994229j,  6.00134693e-02-0.1472013j ,\n",
       "        -1.43856525e-01+0.1054012j , -1.52120084e-01-0.04060984j],\n",
       "       [-2.06511281e-02+0.07461417j, -4.80367318e-02-0.15983193j,\n",
       "        -2.03117188e-02+0.05976649j,  7.47324303e-02-0.10111076j,\n",
       "        -1.15778744e-01+0.06489639j, -8.43751729e-02+0.25583893j,\n",
       "        -1.81571111e-01+0.12620217j,  1.61677152e-01+0.14542998j,\n",
       "         2.74211913e-03-0.07071701j, -1.15963064e-01+0.06404738j,\n",
       "         3.63058336e-02+0.1169889j ,  2.45104074e-01+0.03998372j,\n",
       "        -1.10314697e-01-0.05577077j, -1.17462501e-03+0.00120109j,\n",
       "         7.20398203e-02+0.17362484j,  1.26225591e-01+0.10052185j,\n",
       "         3.22508775e-02-0.10310359j,  1.27643093e-01+0.08807472j],\n",
       "       [ 1.05573819e-03+0.04235198j, -1.67464659e-01-0.20934024j,\n",
       "         1.04869250e-02+0.16475135j, -1.44540705e-02-0.17404774j,\n",
       "        -1.86751366e-01+0.03248027j, -3.40213060e-01-0.19262652j,\n",
       "        -8.62090290e-02+0.07322194j, -2.09012881e-01+0.07374941j,\n",
       "         3.11629102e-03-0.00999904j, -4.87530231e-03-0.05824923j,\n",
       "        -4.14857641e-02+0.03599079j, -6.69009611e-02-0.15887381j,\n",
       "        -2.36098468e-01+0.04572182j,  2.86921952e-02-0.12655245j,\n",
       "         6.51053637e-02+0.12905388j, -9.34988260e-04+0.12828395j,\n",
       "        -7.78855234e-02-0.17567417j, -6.97518811e-02-0.14223766j],\n",
       "       [ 1.08863778e-01-0.24007569j, -3.94023769e-02-0.01888497j,\n",
       "        -4.01325151e-02+0.07032464j, -6.08793236e-02-0.03399993j,\n",
       "        -1.60934284e-01-0.01989573j,  6.31430373e-02-0.04543205j,\n",
       "        -4.46332693e-02-0.11638441j, -1.91110104e-01+0.08889876j,\n",
       "         2.91143991e-02+0.08978854j,  6.12164252e-02-0.02210351j,\n",
       "        -2.92913616e-01+0.06701215j,  7.32310116e-04+0.04487683j,\n",
       "        -1.79664806e-01-0.10463531j,  1.42909408e-01-0.02317612j,\n",
       "         2.80229479e-01-0.13775176j, -3.44663486e-02+0.0256947j ,\n",
       "         2.84117181e-02-0.06109538j, -1.63063765e-01+0.05857379j],\n",
       "       [ 1.07575350e-01-0.09250797j, -1.53160200e-01+0.02097742j,\n",
       "        -3.87778170e-02-0.16916572j,  5.54007553e-02-0.13036194j,\n",
       "        -7.30554610e-02+0.05425401j, -4.33739386e-02+0.20152885j,\n",
       "         2.59859990e-02-0.20736495j, -1.29706055e-01+0.15298733j,\n",
       "         3.48076671e-02+0.03560314j, -9.88571569e-02+0.04667099j,\n",
       "         2.84609236e-02+0.0658634j , -1.32515237e-01-0.1958715j ,\n",
       "         2.03473121e-03-0.16863805j,  3.09662595e-02-0.00678232j,\n",
       "        -9.67725888e-02+0.0907398j , -1.02028012e-01+0.05687093j,\n",
       "         1.47141933e-01-0.09174642j,  6.94934726e-02+0.00493412j],\n",
       "       [-2.42661893e-01+0.13694997j,  2.77121738e-03-0.07212827j,\n",
       "        -2.59097703e-02-0.12792227j, -2.11282641e-01-0.21290715j,\n",
       "         4.32523638e-02-0.08863275j,  3.98592353e-02-0.21709608j,\n",
       "        -1.80233672e-01+0.0383416j ,  1.39785931e-04+0.04774993j,\n",
       "        -4.35654223e-02+0.03405778j, -2.13904515e-01+0.01904585j,\n",
       "        -3.00427973e-02+0.00314395j, -1.14336312e-02+0.00488245j,\n",
       "         1.65082991e-01+0.07401524j,  1.17604025e-01+0.16568086j,\n",
       "         1.32741883e-01+0.06229148j,  1.20540217e-01-0.1801135j ,\n",
       "        -4.59637307e-02+0.16654336j, -2.99180150e-01-0.03026827j],\n",
       "       [-2.12107927e-01+0.06648908j,  1.66393429e-01-0.0593354j ,\n",
       "         7.59504586e-02-0.09498507j,  1.76086545e-01+0.07259729j,\n",
       "        -2.51891196e-01+0.2565989j ,  9.35527161e-02-0.19666597j,\n",
       "         1.69453904e-01+0.00458549j,  1.52228447e-02+0.16543756j,\n",
       "        -3.86157930e-02-0.09987272j,  1.34922162e-01-0.13602993j,\n",
       "        -1.29265770e-01+0.06927102j,  4.52626124e-02+0.16108394j,\n",
       "         9.77414101e-02-0.15466401j, -5.02720885e-02+0.01836023j,\n",
       "         9.66453105e-02-0.03025876j,  8.17410052e-02+0.03517044j,\n",
       "         1.90575272e-01+0.03706574j,  1.37551695e-01+0.0468915j ],\n",
       "       [ 2.48674452e-01+0.07646143j, -1.92470104e-01+0.14906643j,\n",
       "         2.88389057e-01+0.03515356j,  4.64872550e-03+0.16355108j,\n",
       "        -6.52873963e-02-0.08897912j,  1.87550798e-01-0.23435713j,\n",
       "        -1.79236874e-01-0.00050751j, -1.31316930e-01+0.23270819j,\n",
       "        -4.81573120e-02+0.07767709j, -2.02596083e-01+0.22773315j,\n",
       "        -2.11891700e-02-0.01943134j,  1.67879388e-01+0.11076862j,\n",
       "        -1.40156671e-01+0.03408848j, -1.99528530e-01+0.17701788j,\n",
       "         9.66893509e-02-0.06622741j, -7.54414722e-02+0.08768612j,\n",
       "         6.63218275e-02-0.02327189j, -3.28750536e-03+0.01715357j],\n",
       "       [ 1.91112891e-01+0.15013918j,  1.21897653e-01-0.07259747j,\n",
       "        -1.38290390e-01-0.06973535j, -9.21970010e-02+0.03687606j,\n",
       "        -8.93529058e-02-0.1486128j ,  1.36872306e-01+0.01606081j,\n",
       "         5.58116026e-02+0.23394689j,  8.82973894e-02+0.34764034j,\n",
       "        -2.90274620e-03+0.210795j  ,  6.36930838e-02-0.46669185j,\n",
       "         1.48395702e-01+0.02567443j, -9.21433344e-02-0.03955909j,\n",
       "         4.40066792e-02+0.05143747j,  4.91007119e-02-0.02510025j,\n",
       "         1.15896903e-01+0.01826172j,  4.87614200e-02+0.04367418j,\n",
       "         8.07137340e-02-0.02629235j, -7.72711188e-02-0.05425991j],\n",
       "       [ 1.00707024e-01-0.02244303j, -2.29769066e-01+0.15861438j,\n",
       "        -1.87890097e-01-0.152123j  , -1.02208987e-01+0.1805569j ,\n",
       "        -3.90478410e-03+0.17063364j, -1.56390190e-01-0.05269712j,\n",
       "         9.89413410e-02+0.08695877j, -7.02736452e-02-0.16448307j,\n",
       "        -1.04402229e-01+0.08080408j, -7.57126808e-02-0.29652148j,\n",
       "        -3.47477436e-01+0.09099029j,  4.96798754e-03+0.08570641j,\n",
       "        -7.28011876e-02+0.15854305j,  1.27852932e-01+0.13050966j,\n",
       "        -3.85187231e-02+0.11190387j, -3.99161577e-02+0.01402448j,\n",
       "        -9.39407051e-02+0.02538645j,  3.06828041e-02-0.03723091j],\n",
       "       [-7.38223642e-02+0.03548981j,  1.11437701e-01-0.05488953j,\n",
       "         1.61944374e-01-0.18048579j,  1.61777601e-01-0.07669254j,\n",
       "        -6.98319227e-02+0.29825217j,  4.44261171e-02-0.04861933j,\n",
       "         1.93569735e-01-0.06365284j, -1.22099832e-01-0.01569685j,\n",
       "        -8.74721482e-02+0.05431419j, -7.53193498e-02+0.01453j   ,\n",
       "        -6.71908408e-02-0.03237763j, -9.94374007e-02-0.11817525j,\n",
       "        -8.53728056e-02+0.04082618j, -6.11491203e-02-0.00513051j,\n",
       "        -1.11462347e-01+0.16257595j,  1.09997287e-01-0.15798935j,\n",
       "        -1.06442608e-02+0.02132364j, -2.69325703e-01+0.1136343j ]],\n",
       "      dtype=complex64)"
      ]
     },
     "execution_count": 57,
     "metadata": {},
     "output_type": "execute_result"
    }
   ],
   "source": [
    "onn_model.layers[0].matrix[:18, :18]"
   ]
  },
  {
   "cell_type": "code",
   "execution_count": 85,
   "metadata": {},
   "outputs": [
    {
     "ename": "TypeError",
     "evalue": "in user code:\n\n    File \"c:\\ProgramData\\Anaconda3\\envs\\neurophoxgpu\\lib\\site-packages\\neurophox\\tensorflow\\generic.py\", line 491, in transform  *\n        mesh_phases, mesh_layers = self.phases_and_layers\n    File \"c:\\ProgramData\\Anaconda3\\envs\\neurophoxgpu\\lib\\site-packages\\neurophox\\tensorflow\\generic.py\", line 537, in phases_and_layers\n        mesh_layers = self.mesh.mesh_layers(mesh_phases)\n    File \"c:\\ProgramData\\Anaconda3\\envs\\neurophoxgpu\\lib\\site-packages\\neurophox\\tensorflow\\generic.py\", line 437, in mesh_layers\n        s11 = (self.epp * internal_psl - self.enn * roll_tensor(internal_psl, up=True))\n\n    TypeError: Input 'y' of 'Mul' Op has type complex128 that does not match type complex64 of argument 'x'.\n",
     "output_type": "error",
     "traceback": [
      "\u001b[1;31m---------------------------------------------------------------------------\u001b[0m",
      "\u001b[1;31mTypeError\u001b[0m                                 Traceback (most recent call last)",
      "Cell \u001b[1;32mIn[85], line 1\u001b[0m\n\u001b[1;32m----> 1\u001b[0m \u001b[43mbruh\u001b[49m\u001b[38;5;241;43m.\u001b[39;49m\u001b[43mmatrix\u001b[49m\n",
      "File \u001b[1;32mc:\\ProgramData\\Anaconda3\\envs\\neurophoxgpu\\lib\\site-packages\\neurophox\\tensorflow\\generic.py:64\u001b[0m, in \u001b[0;36mTransformerLayer.matrix\u001b[1;34m(self)\u001b[0m\n\u001b[0;32m     57\u001b[0m \u001b[38;5;250m\u001b[39m\u001b[38;5;124;03m\"\"\"\u001b[39;00m\n\u001b[0;32m     58\u001b[0m \u001b[38;5;124;03mShortcut of :code:`transformer.transform(np.eye(self.units))`\u001b[39;00m\n\u001b[0;32m     59\u001b[0m \n\u001b[0;32m     60\u001b[0m \u001b[38;5;124;03mReturns:\u001b[39;00m\n\u001b[0;32m     61\u001b[0m \u001b[38;5;124;03m    Matrix implemented by layer\u001b[39;00m\n\u001b[0;32m     62\u001b[0m \u001b[38;5;124;03m\"\"\"\u001b[39;00m\n\u001b[0;32m     63\u001b[0m identity_matrix \u001b[38;5;241m=\u001b[39m np\u001b[38;5;241m.\u001b[39meye(\u001b[38;5;28mself\u001b[39m\u001b[38;5;241m.\u001b[39munits, dtype\u001b[38;5;241m=\u001b[39mnp\u001b[38;5;241m.\u001b[39mcomplex64)\n\u001b[1;32m---> 64\u001b[0m \u001b[38;5;28;01mreturn\u001b[39;00m \u001b[38;5;28;43mself\u001b[39;49m\u001b[38;5;241;43m.\u001b[39;49m\u001b[43mtransform\u001b[49m\u001b[43m(\u001b[49m\u001b[43midentity_matrix\u001b[49m\u001b[43m)\u001b[49m\u001b[38;5;241m.\u001b[39mnumpy()\n",
      "File \u001b[1;32mc:\\ProgramData\\Anaconda3\\envs\\neurophoxgpu\\lib\\site-packages\\tensorflow\\python\\util\\traceback_utils.py:153\u001b[0m, in \u001b[0;36mfilter_traceback.<locals>.error_handler\u001b[1;34m(*args, **kwargs)\u001b[0m\n\u001b[0;32m    151\u001b[0m \u001b[38;5;28;01mexcept\u001b[39;00m \u001b[38;5;167;01mException\u001b[39;00m \u001b[38;5;28;01mas\u001b[39;00m e:\n\u001b[0;32m    152\u001b[0m   filtered_tb \u001b[38;5;241m=\u001b[39m _process_traceback_frames(e\u001b[38;5;241m.\u001b[39m__traceback__)\n\u001b[1;32m--> 153\u001b[0m   \u001b[38;5;28;01mraise\u001b[39;00m e\u001b[38;5;241m.\u001b[39mwith_traceback(filtered_tb) \u001b[38;5;28;01mfrom\u001b[39;00m \u001b[38;5;28;01mNone\u001b[39;00m\n\u001b[0;32m    154\u001b[0m \u001b[38;5;28;01mfinally\u001b[39;00m:\n\u001b[0;32m    155\u001b[0m   \u001b[38;5;28;01mdel\u001b[39;00m filtered_tb\n",
      "File \u001b[1;32mC:\\Users\\ANIKET~1\\AppData\\Local\\Temp\\__autograph_generated_filex_x30f8t.py:24\u001b[0m, in \u001b[0;36mouter_factory.<locals>.inner_factory.<locals>.tf__transform\u001b[1;34m(self, inputs)\u001b[0m\n\u001b[0;32m     22\u001b[0m do_return \u001b[38;5;241m=\u001b[39m \u001b[38;5;28;01mFalse\u001b[39;00m\n\u001b[0;32m     23\u001b[0m retval_ \u001b[38;5;241m=\u001b[39m ag__\u001b[38;5;241m.\u001b[39mUndefinedReturnValue()\n\u001b[1;32m---> 24\u001b[0m (mesh_phases, mesh_layers) \u001b[38;5;241m=\u001b[39m \u001b[43mag__\u001b[49m\u001b[38;5;241;43m.\u001b[39;49m\u001b[43mld\u001b[49m\u001b[43m(\u001b[49m\u001b[38;5;28;43mself\u001b[39;49m\u001b[43m)\u001b[49m\u001b[38;5;241;43m.\u001b[39;49m\u001b[43mphases_and_layers\u001b[49m\n\u001b[0;32m     25\u001b[0m outputs \u001b[38;5;241m=\u001b[39m ag__\u001b[38;5;241m.\u001b[39mif_exp(ag__\u001b[38;5;241m.\u001b[39mld(\u001b[38;5;28mself\u001b[39m)\u001b[38;5;241m.\u001b[39minclude_diagonal_phases, \u001b[38;5;28;01mlambda\u001b[39;00m : ag__\u001b[38;5;241m.\u001b[39mld(inputs) \u001b[38;5;241m*\u001b[39m ag__\u001b[38;5;241m.\u001b[39mld(mesh_phases)\u001b[38;5;241m.\u001b[39minput_phase_shift_layer, \u001b[38;5;28;01mlambda\u001b[39;00m : ag__\u001b[38;5;241m.\u001b[39mld(inputs), \u001b[38;5;124m'\u001b[39m\u001b[38;5;124mself.include_diagonal_phases\u001b[39m\u001b[38;5;124m'\u001b[39m)\n\u001b[0;32m     27\u001b[0m \u001b[38;5;28;01mdef\u001b[39;00m \u001b[38;5;21mget_state\u001b[39m():\n",
      "File \u001b[1;32mc:\\ProgramData\\Anaconda3\\envs\\neurophoxgpu\\lib\\site-packages\\neurophox\\tensorflow\\generic.py:537\u001b[0m, in \u001b[0;36mMeshLayer.phases_and_layers\u001b[1;34m(self)\u001b[0m\n\u001b[0;32m    523\u001b[0m \u001b[38;5;250m\u001b[39m\u001b[38;5;124;03m\"\"\"\u001b[39;00m\n\u001b[0;32m    524\u001b[0m \n\u001b[0;32m    525\u001b[0m \u001b[38;5;124;03mReturns:\u001b[39;00m\n\u001b[0;32m    526\u001b[0m \u001b[38;5;124;03m    Phases and layers for this mesh layer\u001b[39;00m\n\u001b[0;32m    527\u001b[0m \u001b[38;5;124;03m\"\"\"\u001b[39;00m\n\u001b[0;32m    528\u001b[0m mesh_phases \u001b[38;5;241m=\u001b[39m MeshPhasesTensorflow(\n\u001b[0;32m    529\u001b[0m     theta\u001b[38;5;241m=\u001b[39m\u001b[38;5;28mself\u001b[39m\u001b[38;5;241m.\u001b[39mtheta,\n\u001b[0;32m    530\u001b[0m     phi\u001b[38;5;241m=\u001b[39m\u001b[38;5;28mself\u001b[39m\u001b[38;5;241m.\u001b[39mphi,\n\u001b[1;32m   (...)\u001b[0m\n\u001b[0;32m    535\u001b[0m     basis\u001b[38;5;241m=\u001b[39m\u001b[38;5;28mself\u001b[39m\u001b[38;5;241m.\u001b[39mmesh\u001b[38;5;241m.\u001b[39mmodel\u001b[38;5;241m.\u001b[39mbasis\n\u001b[0;32m    536\u001b[0m )\n\u001b[1;32m--> 537\u001b[0m mesh_layers \u001b[38;5;241m=\u001b[39m \u001b[38;5;28;43mself\u001b[39;49m\u001b[38;5;241;43m.\u001b[39;49m\u001b[43mmesh\u001b[49m\u001b[38;5;241;43m.\u001b[39;49m\u001b[43mmesh_layers\u001b[49m\u001b[43m(\u001b[49m\u001b[43mmesh_phases\u001b[49m\u001b[43m)\u001b[49m\n\u001b[0;32m    538\u001b[0m \u001b[38;5;28;01mreturn\u001b[39;00m mesh_phases, mesh_layers\n",
      "File \u001b[1;32mc:\\ProgramData\\Anaconda3\\envs\\neurophoxgpu\\lib\\site-packages\\neurophox\\tensorflow\\generic.py:437\u001b[0m, in \u001b[0;36mMesh.mesh_layers\u001b[1;34m(self, phases)\u001b[0m\n\u001b[0;32m    435\u001b[0m     s21 \u001b[38;5;241m=\u001b[39m (\u001b[38;5;28mself\u001b[39m\u001b[38;5;241m.\u001b[39mepn \u001b[38;5;241m*\u001b[39m internal_psl \u001b[38;5;241m-\u001b[39m \u001b[38;5;28mself\u001b[39m\u001b[38;5;241m.\u001b[39menp \u001b[38;5;241m*\u001b[39m roll_tensor(internal_psl, up\u001b[38;5;241m=\u001b[39m\u001b[38;5;28;01mTrue\u001b[39;00m))\n\u001b[0;32m    436\u001b[0m \u001b[38;5;28;01melse\u001b[39;00m:\n\u001b[1;32m--> 437\u001b[0m     s11 \u001b[38;5;241m=\u001b[39m (\u001b[38;5;28;43mself\u001b[39;49m\u001b[38;5;241;43m.\u001b[39;49m\u001b[43mepp\u001b[49m\u001b[43m \u001b[49m\u001b[38;5;241;43m*\u001b[39;49m\u001b[43m \u001b[49m\u001b[43minternal_psl\u001b[49m \u001b[38;5;241m-\u001b[39m \u001b[38;5;28mself\u001b[39m\u001b[38;5;241m.\u001b[39menn \u001b[38;5;241m*\u001b[39m roll_tensor(internal_psl, up\u001b[38;5;241m=\u001b[39m\u001b[38;5;28;01mTrue\u001b[39;00m))\n\u001b[0;32m    438\u001b[0m     s22 \u001b[38;5;241m=\u001b[39m roll_tensor(\u001b[38;5;241m-\u001b[39m\u001b[38;5;28mself\u001b[39m\u001b[38;5;241m.\u001b[39menn \u001b[38;5;241m*\u001b[39m internal_psl \u001b[38;5;241m+\u001b[39m \u001b[38;5;28mself\u001b[39m\u001b[38;5;241m.\u001b[39mepp \u001b[38;5;241m*\u001b[39m roll_tensor(internal_psl, up\u001b[38;5;241m=\u001b[39m\u001b[38;5;28;01mTrue\u001b[39;00m))\n\u001b[0;32m    439\u001b[0m     s12 \u001b[38;5;241m=\u001b[39m \u001b[38;5;241m1\u001b[39mj \u001b[38;5;241m*\u001b[39m roll_tensor(\u001b[38;5;28mself\u001b[39m\u001b[38;5;241m.\u001b[39menp \u001b[38;5;241m*\u001b[39m internal_psl \u001b[38;5;241m+\u001b[39m \u001b[38;5;28mself\u001b[39m\u001b[38;5;241m.\u001b[39mepn \u001b[38;5;241m*\u001b[39m roll_tensor(internal_psl, up\u001b[38;5;241m=\u001b[39m\u001b[38;5;28;01mTrue\u001b[39;00m))\n",
      "\u001b[1;31mTypeError\u001b[0m: in user code:\n\n    File \"c:\\ProgramData\\Anaconda3\\envs\\neurophoxgpu\\lib\\site-packages\\neurophox\\tensorflow\\generic.py\", line 491, in transform  *\n        mesh_phases, mesh_layers = self.phases_and_layers\n    File \"c:\\ProgramData\\Anaconda3\\envs\\neurophoxgpu\\lib\\site-packages\\neurophox\\tensorflow\\generic.py\", line 537, in phases_and_layers\n        mesh_layers = self.mesh.mesh_layers(mesh_phases)\n    File \"c:\\ProgramData\\Anaconda3\\envs\\neurophoxgpu\\lib\\site-packages\\neurophox\\tensorflow\\generic.py\", line 437, in mesh_layers\n        s11 = (self.epp * internal_psl - self.enn * roll_tensor(internal_psl, up=True))\n\n    TypeError: Input 'y' of 'Mul' Op has type complex128 that does not match type complex64 of argument 'x'.\n"
     ]
    }
   ],
   "source": [
    "bruh.matrix"
   ]
  },
  {
   "cell_type": "code",
   "execution_count": 73,
   "metadata": {},
   "outputs": [
    {
     "data": {
      "text/plain": [
       "array([5.5288092 , 4.39412237, 4.60936246, 5.36511264, 0.23268382,\n",
       "       5.11674463, 5.29026315, 1.99555937, 0.72461963, 2.77564502,\n",
       "       4.01157301, 1.96270817, 0.55634496, 0.31580667, 0.62399355,\n",
       "       1.02821279, 2.10094829, 2.7950532 ])"
      ]
     },
     "execution_count": 73,
     "metadata": {},
     "output_type": "execute_result"
    }
   ],
   "source": []
  },
  {
   "cell_type": "code",
   "execution_count": 60,
   "metadata": {},
   "outputs": [
    {
     "data": {
      "text/plain": [
       "(18, 9)"
      ]
     },
     "execution_count": 60,
     "metadata": {},
     "output_type": "execute_result"
    }
   ],
   "source": [
    "t.shape"
   ]
  },
  {
   "cell_type": "code",
   "execution_count": 87,
   "metadata": {},
   "outputs": [],
   "source": [
    "core11 = generate_network_v2(18, 10)\n",
    "core11.compile(optimizer='adam', loss='categorical_crossentropy', metrics=['accuracy'])\n",
    "core12 = generate_network_v2(18, 10)\n",
    "core12.compile(optimizer='adam', loss='categorical_crossentropy', metrics=['accuracy'])\n",
    "core21 = generate_network_v2(18, 10)\n",
    "core21.compile(optimizer='adam', loss='categorical_crossentropy', metrics=['accuracy'])\n",
    "core22 = generate_network_v2(18, 10)\n",
    "core22.compile(optimizer='adam', loss='categorical_crossentropy', metrics=['accuracy'])"
   ]
  },
  {
   "cell_type": "code",
   "execution_count": null,
   "metadata": {},
   "outputs": [],
   "source": []
  },
  {
   "cell_type": "code",
   "execution_count": 9,
   "metadata": {},
   "outputs": [],
   "source": [
    "def generate_network_v3(N, N_classes, theta_init_name='haar_rect', phi_init_name='random_phi'):\n",
    "    \"\"\" \n",
    "\n",
    "    Args:\n",
    "        N (int): Size of the input layer\n",
    "        N_classes (int, optional): _description_. Defaults to 10.\n",
    "        L (int, optional): _description_. Defaults to 1.\n",
    "        theta_init_name (str, optional): _description_. Defaults to 'haar_rect'.\n",
    "        phi_init_name (str, optional): _description_. Defaults to 'random_phi'.\n",
    "\n",
    "    Returns:\n",
    "        Sequential: _description_\n",
    "    \"\"\"\n",
    "    layers=[]\n",
    "    layers.append(RM(N, theta_init_name=theta_init_name, phi_init_name=phi_init_name))\n",
    "    layers.append(Lambda(lambda x: x[:, :200]))\n",
    "    layers.append(RM(200, theta_init_name=theta_init_name, phi_init_name=phi_init_name))\n",
    "    layers.append(Activation(cnormsq))\n",
    "    layers.append(Lambda(lambda x: tf.math.real(x[:, :N_classes])))\n",
    "    layers.append(tf.keras.layers.Softmax(axis=-1))\n",
    "\n",
    "    return Sequential(layers)"
   ]
  },
  {
   "cell_type": "code",
   "execution_count": 10,
   "metadata": {},
   "outputs": [],
   "source": [
    "onn2 = generate_network_v3(784, 10)"
   ]
  },
  {
   "cell_type": "code",
   "execution_count": 11,
   "metadata": {},
   "outputs": [],
   "source": [
    "onn2.compile(optimizer='adam', loss='categorical_crossentropy', metrics=['accuracy'])"
   ]
  },
  {
   "cell_type": "code",
   "execution_count": 12,
   "metadata": {},
   "outputs": [
    {
     "name": "stdout",
     "output_type": "stream",
     "text": [
      "Epoch 1/10\n"
     ]
    },
    {
     "ename": "",
     "evalue": "",
     "output_type": "error",
     "traceback": [
      "\u001b[1;31mThe Kernel crashed while executing code in the the current cell or a previous cell. Please review the code in the cell(s) to identify a possible cause of the failure. Click <a href='https://aka.ms/vscodeJupyterKernelCrash'>here</a> for more info. View Jupyter <a href='command:jupyter.viewOutput'>log</a> for further details."
     ]
    }
   ],
   "source": [
    "history = onn2.fit(X_train, y, epochs=10, batch_size=batch_size, validation_data=(X_test, y_test), verbose=2)"
   ]
  },
  {
   "cell_type": "code",
   "execution_count": 52,
   "metadata": {},
   "outputs": [],
   "source": [
    "import torch"
   ]
  },
  {
   "cell_type": "code",
   "execution_count": 58,
   "metadata": {},
   "outputs": [],
   "source": [
    "M, N, K = 15, 20, 18\n",
    "\n",
    "A = torch.rand((M, K))\n",
    "B = torch.rand((K, N))"
   ]
  },
  {
   "cell_type": "code",
   "execution_count": 59,
   "metadata": {},
   "outputs": [],
   "source": [
    "block_M, block_N, block_K = M // 5, N // 5, K // 6\n",
    "\n",
    "output = torch.zeros((M, N))\n",
    "total_load = 0\n",
    "total_write = 0\n",
    "\n",
    "for index_M in range(0, M, block_M):\n",
    "    start_M = index_M\n",
    "    end_M = index_M + block_M\n",
    "\n",
    "    for index_N in range(0, N, block_N):\n",
    "        start_N = index_N\n",
    "        end_N = index_N + block_N\n",
    "        accumulator = torch.zeros((block_M, block_N))\n",
    "        for index_K in range(0, K, block_K):\n",
    "            start_K = index_K\n",
    "            end_K = index_K + block_K\n",
    "\n",
    "            tile_A = A[start_M:end_M, start_K:end_K]\n",
    "            total_load += tile_A.numel()\n",
    "            tile_B = B[start_K:end_K, start_N:end_N]\n",
    "            total_load += tile_B.numel()\n",
    "            # @ means matmul in numpy and pytorch\n",
    "            accumulator += tile_A @ tile_B\n",
    "        output[start_M:end_M, start_N:end_N] = accumulator\n",
    "        total_write += accumulator.numel()"
   ]
  },
  {
   "cell_type": "code",
   "execution_count": 60,
   "metadata": {},
   "outputs": [
    {
     "name": "stdout",
     "output_type": "stream",
     "text": [
      "total load from GM: 3150\n",
      "total write to GM: 300\n"
     ]
    }
   ],
   "source": [
    "assert torch.allclose(output, A @ B)\n",
    "print(\"total load from GM:\", total_load)\n",
    "print(\"total write to GM:\", total_write)"
   ]
  },
  {
   "cell_type": "code",
   "execution_count": null,
   "metadata": {},
   "outputs": [],
   "source": []
  }
 ],
 "metadata": {
  "kernelspec": {
   "display_name": "neurophoxgpu",
   "language": "python",
   "name": "python3"
  },
  "language_info": {
   "codemirror_mode": {
    "name": "ipython",
    "version": 3
   },
   "file_extension": ".py",
   "mimetype": "text/x-python",
   "name": "python",
   "nbconvert_exporter": "python",
   "pygments_lexer": "ipython3",
   "version": "3.10.11"
  }
 },
 "nbformat": 4,
 "nbformat_minor": 2
}
